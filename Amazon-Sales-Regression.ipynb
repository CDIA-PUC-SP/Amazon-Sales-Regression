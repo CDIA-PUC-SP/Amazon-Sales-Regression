{
  "cells": [
    {
      "attachments": {},
      "cell_type": "markdown",
      "metadata": {
        "id": "kctfSP2Rojqz"
      },
      "source": [
        "# Dataset 1 - Amazon Sales Dataset\n",
        "| Variable             | Definition                                             |\n",
        "|----------------------|--------------------------------------------------------|\n",
        "| product_id           | Product ID                                             |\n",
        "| product_name         | Name of the Product                                     |\n",
        "| category             | Category of the Product                                 |\n",
        "| discounted_price     | Discounted Price of the Product                         |\n",
        "| actual_price         | Actual Price of the Product                             |\n",
        "| discount_percentage  | Percentage of Discount for the Product                  |\n",
        "| rating               | Rating of the Product                                   |\n",
        "| rating_count         | Number of people who voted for the Amazon rating         |\n",
        "| about_product        | Description about the Product                           |\n",
        "| user_id              | ID of the user who wrote review for the Product          |\n",
        "| user_name            | Name of the user who wrote review for the Product        |\n",
        "| review_id            | ID of the user review                                   |\n",
        "| review_title         | Short review                                            |\n",
        "| review_content       | Long review                                             |\n",
        "| img_link             | Image Link of the Product                               |\n",
        "| product_link         | Official Website Link of the Product                    |\n",
        "\n",
        "## Models:\n",
        "1. Linear Regression (predicting the percentage of discounts based on the features)\n",
        "2. Random Forest Regressor (predicting the percentage of discounts based on the features)\n",
        "\n",
        "## Business Analysis:\n",
        "* From a customer's perspective, provide a prediction of the product discount based on the product categories and customer ratings."
      ]
    },
    {
      "attachments": {},
      "cell_type": "markdown",
      "metadata": {
        "id": "im3wCu66Kwv_"
      },
      "source": [
        "# Data analysis"
      ]
    },
    {
      "cell_type": "code",
      "execution_count": 85,
      "metadata": {},
      "outputs": [],
      "source": [
        "import pandas as pd\n",
        "import numpy  as np\n",
        "import re\n",
        "import matplotlib.pyplot as plt"
      ]
    },
    {
      "cell_type": "code",
      "execution_count": 86,
      "metadata": {
        "colab": {
          "base_uri": "https://localhost:8080/",
          "height": 583
        },
        "id": "1aF4ubCUK965",
        "outputId": "f7d7acc6-b1bd-4fb7-873a-7a64df4de94b"
      },
      "outputs": [
        {
          "data": {
            "text/html": [
              "<div>\n",
              "<style scoped>\n",
              "    .dataframe tbody tr th:only-of-type {\n",
              "        vertical-align: middle;\n",
              "    }\n",
              "\n",
              "    .dataframe tbody tr th {\n",
              "        vertical-align: top;\n",
              "    }\n",
              "\n",
              "    .dataframe thead th {\n",
              "        text-align: right;\n",
              "    }\n",
              "</style>\n",
              "<table border=\"1\" class=\"dataframe\">\n",
              "  <thead>\n",
              "    <tr style=\"text-align: right;\">\n",
              "      <th></th>\n",
              "      <th>product_id</th>\n",
              "      <th>product_name</th>\n",
              "      <th>category</th>\n",
              "      <th>discounted_price</th>\n",
              "      <th>actual_price</th>\n",
              "      <th>discount_percentage</th>\n",
              "      <th>rating</th>\n",
              "      <th>rating_count</th>\n",
              "      <th>about_product</th>\n",
              "      <th>user_id</th>\n",
              "      <th>user_name</th>\n",
              "      <th>review_id</th>\n",
              "      <th>review_title</th>\n",
              "      <th>review_content</th>\n",
              "      <th>img_link</th>\n",
              "      <th>product_link</th>\n",
              "    </tr>\n",
              "  </thead>\n",
              "  <tbody>\n",
              "    <tr>\n",
              "      <th>0</th>\n",
              "      <td>B07JW9H4J1</td>\n",
              "      <td>Wayona Nylon Braided USB to Lightning Fast Cha...</td>\n",
              "      <td>Computers&amp;Accessories|Accessories&amp;Peripherals|...</td>\n",
              "      <td>₹399</td>\n",
              "      <td>₹1,099</td>\n",
              "      <td>64%</td>\n",
              "      <td>4.2</td>\n",
              "      <td>24,269</td>\n",
              "      <td>High Compatibility : Compatible With iPhone 12...</td>\n",
              "      <td>AG3D6O4STAQKAY2UVGEUV46KN35Q,AHMY5CWJMMK5BJRBB...</td>\n",
              "      <td>Manav,Adarsh gupta,Sundeep,S.Sayeed Ahmed,jasp...</td>\n",
              "      <td>R3HXWT0LRP0NMF,R2AJM3LFTLZHFO,R6AQJGUP6P86,R1K...</td>\n",
              "      <td>Satisfied,Charging is really fast,Value for mo...</td>\n",
              "      <td>Looks durable Charging is fine tooNo complains...</td>\n",
              "      <td>https://m.media-amazon.com/images/W/WEBP_40237...</td>\n",
              "      <td>https://www.amazon.in/Wayona-Braided-WN3LG1-Sy...</td>\n",
              "    </tr>\n",
              "    <tr>\n",
              "      <th>1</th>\n",
              "      <td>B098NS6PVG</td>\n",
              "      <td>Ambrane Unbreakable 60W / 3A Fast Charging 1.5...</td>\n",
              "      <td>Computers&amp;Accessories|Accessories&amp;Peripherals|...</td>\n",
              "      <td>₹199</td>\n",
              "      <td>₹349</td>\n",
              "      <td>43%</td>\n",
              "      <td>4.0</td>\n",
              "      <td>43,994</td>\n",
              "      <td>Compatible with all Type C enabled devices, be...</td>\n",
              "      <td>AECPFYFQVRUWC3KGNLJIOREFP5LQ,AGYYVPDD7YG7FYNBX...</td>\n",
              "      <td>ArdKn,Nirbhay kumar,Sagar Viswanathan,Asp,Plac...</td>\n",
              "      <td>RGIQEG07R9HS2,R1SMWZQ86XIN8U,R2J3Y1WL29GWDE,RY...</td>\n",
              "      <td>A Good Braided Cable for Your Type C Device,Go...</td>\n",
              "      <td>I ordered this cable to connect my phone to An...</td>\n",
              "      <td>https://m.media-amazon.com/images/W/WEBP_40237...</td>\n",
              "      <td>https://www.amazon.in/Ambrane-Unbreakable-Char...</td>\n",
              "    </tr>\n",
              "    <tr>\n",
              "      <th>2</th>\n",
              "      <td>B096MSW6CT</td>\n",
              "      <td>Sounce Fast Phone Charging Cable &amp; Data Sync U...</td>\n",
              "      <td>Computers&amp;Accessories|Accessories&amp;Peripherals|...</td>\n",
              "      <td>₹199</td>\n",
              "      <td>₹1,899</td>\n",
              "      <td>90%</td>\n",
              "      <td>3.9</td>\n",
              "      <td>7,928</td>\n",
              "      <td>【 Fast Charger&amp; Data Sync】-With built-in safet...</td>\n",
              "      <td>AGU3BBQ2V2DDAMOAKGFAWDDQ6QHA,AESFLDV2PT363T2AQ...</td>\n",
              "      <td>Kunal,Himanshu,viswanath,sai niharka,saqib mal...</td>\n",
              "      <td>R3J3EQQ9TZI5ZJ,R3E7WBGK7ID0KV,RWU79XKQ6I1QF,R2...</td>\n",
              "      <td>Good speed for earlier versions,Good Product,W...</td>\n",
              "      <td>Not quite durable and sturdy,https://m.media-a...</td>\n",
              "      <td>https://m.media-amazon.com/images/W/WEBP_40237...</td>\n",
              "      <td>https://www.amazon.in/Sounce-iPhone-Charging-C...</td>\n",
              "    </tr>\n",
              "    <tr>\n",
              "      <th>3</th>\n",
              "      <td>B08HDJ86NZ</td>\n",
              "      <td>boAt Deuce USB 300 2 in 1 Type-C &amp; Micro USB S...</td>\n",
              "      <td>Computers&amp;Accessories|Accessories&amp;Peripherals|...</td>\n",
              "      <td>₹329</td>\n",
              "      <td>₹699</td>\n",
              "      <td>53%</td>\n",
              "      <td>4.2</td>\n",
              "      <td>94,363</td>\n",
              "      <td>The boAt Deuce USB 300 2 in 1 cable is compati...</td>\n",
              "      <td>AEWAZDZZJLQUYVOVGBEUKSLXHQ5A,AG5HTSFRRE6NL3M5S...</td>\n",
              "      <td>Omkar dhale,JD,HEMALATHA,Ajwadh a.,amar singh ...</td>\n",
              "      <td>R3EEUZKKK9J36I,R3HJVYCLYOY554,REDECAZ7AMPQC,R1...</td>\n",
              "      <td>Good product,Good one,Nice,Really nice product...</td>\n",
              "      <td>Good product,long wire,Charges good,Nice,I bou...</td>\n",
              "      <td>https://m.media-amazon.com/images/I/41V5FtEWPk...</td>\n",
              "      <td>https://www.amazon.in/Deuce-300-Resistant-Tang...</td>\n",
              "    </tr>\n",
              "    <tr>\n",
              "      <th>4</th>\n",
              "      <td>B08CF3B7N1</td>\n",
              "      <td>Portronics Konnect L 1.2M Fast Charging 3A 8 P...</td>\n",
              "      <td>Computers&amp;Accessories|Accessories&amp;Peripherals|...</td>\n",
              "      <td>₹154</td>\n",
              "      <td>₹399</td>\n",
              "      <td>61%</td>\n",
              "      <td>4.2</td>\n",
              "      <td>16,905</td>\n",
              "      <td>[CHARGE &amp; SYNC FUNCTION]- This cable comes wit...</td>\n",
              "      <td>AE3Q6KSUK5P75D5HFYHCRAOLODSA,AFUGIFH5ZAFXRDSZH...</td>\n",
              "      <td>rahuls6099,Swasat Borah,Ajay Wadke,Pranali,RVK...</td>\n",
              "      <td>R1BP4L2HH9TFUP,R16PVJEXKV6QZS,R2UPDB81N66T4P,R...</td>\n",
              "      <td>As good as original,Decent,Good one for second...</td>\n",
              "      <td>Bought this instead of original apple, does th...</td>\n",
              "      <td>https://m.media-amazon.com/images/W/WEBP_40237...</td>\n",
              "      <td>https://www.amazon.in/Portronics-Konnect-POR-1...</td>\n",
              "    </tr>\n",
              "  </tbody>\n",
              "</table>\n",
              "</div>"
            ],
            "text/plain": [
              "   product_id                                       product_name  \\\n",
              "0  B07JW9H4J1  Wayona Nylon Braided USB to Lightning Fast Cha...   \n",
              "1  B098NS6PVG  Ambrane Unbreakable 60W / 3A Fast Charging 1.5...   \n",
              "2  B096MSW6CT  Sounce Fast Phone Charging Cable & Data Sync U...   \n",
              "3  B08HDJ86NZ  boAt Deuce USB 300 2 in 1 Type-C & Micro USB S...   \n",
              "4  B08CF3B7N1  Portronics Konnect L 1.2M Fast Charging 3A 8 P...   \n",
              "\n",
              "                                            category discounted_price  \\\n",
              "0  Computers&Accessories|Accessories&Peripherals|...             ₹399   \n",
              "1  Computers&Accessories|Accessories&Peripherals|...             ₹199   \n",
              "2  Computers&Accessories|Accessories&Peripherals|...             ₹199   \n",
              "3  Computers&Accessories|Accessories&Peripherals|...             ₹329   \n",
              "4  Computers&Accessories|Accessories&Peripherals|...             ₹154   \n",
              "\n",
              "  actual_price discount_percentage rating rating_count  \\\n",
              "0       ₹1,099                 64%    4.2       24,269   \n",
              "1         ₹349                 43%    4.0       43,994   \n",
              "2       ₹1,899                 90%    3.9        7,928   \n",
              "3         ₹699                 53%    4.2       94,363   \n",
              "4         ₹399                 61%    4.2       16,905   \n",
              "\n",
              "                                       about_product  \\\n",
              "0  High Compatibility : Compatible With iPhone 12...   \n",
              "1  Compatible with all Type C enabled devices, be...   \n",
              "2  【 Fast Charger& Data Sync】-With built-in safet...   \n",
              "3  The boAt Deuce USB 300 2 in 1 cable is compati...   \n",
              "4  [CHARGE & SYNC FUNCTION]- This cable comes wit...   \n",
              "\n",
              "                                             user_id  \\\n",
              "0  AG3D6O4STAQKAY2UVGEUV46KN35Q,AHMY5CWJMMK5BJRBB...   \n",
              "1  AECPFYFQVRUWC3KGNLJIOREFP5LQ,AGYYVPDD7YG7FYNBX...   \n",
              "2  AGU3BBQ2V2DDAMOAKGFAWDDQ6QHA,AESFLDV2PT363T2AQ...   \n",
              "3  AEWAZDZZJLQUYVOVGBEUKSLXHQ5A,AG5HTSFRRE6NL3M5S...   \n",
              "4  AE3Q6KSUK5P75D5HFYHCRAOLODSA,AFUGIFH5ZAFXRDSZH...   \n",
              "\n",
              "                                           user_name  \\\n",
              "0  Manav,Adarsh gupta,Sundeep,S.Sayeed Ahmed,jasp...   \n",
              "1  ArdKn,Nirbhay kumar,Sagar Viswanathan,Asp,Plac...   \n",
              "2  Kunal,Himanshu,viswanath,sai niharka,saqib mal...   \n",
              "3  Omkar dhale,JD,HEMALATHA,Ajwadh a.,amar singh ...   \n",
              "4  rahuls6099,Swasat Borah,Ajay Wadke,Pranali,RVK...   \n",
              "\n",
              "                                           review_id  \\\n",
              "0  R3HXWT0LRP0NMF,R2AJM3LFTLZHFO,R6AQJGUP6P86,R1K...   \n",
              "1  RGIQEG07R9HS2,R1SMWZQ86XIN8U,R2J3Y1WL29GWDE,RY...   \n",
              "2  R3J3EQQ9TZI5ZJ,R3E7WBGK7ID0KV,RWU79XKQ6I1QF,R2...   \n",
              "3  R3EEUZKKK9J36I,R3HJVYCLYOY554,REDECAZ7AMPQC,R1...   \n",
              "4  R1BP4L2HH9TFUP,R16PVJEXKV6QZS,R2UPDB81N66T4P,R...   \n",
              "\n",
              "                                        review_title  \\\n",
              "0  Satisfied,Charging is really fast,Value for mo...   \n",
              "1  A Good Braided Cable for Your Type C Device,Go...   \n",
              "2  Good speed for earlier versions,Good Product,W...   \n",
              "3  Good product,Good one,Nice,Really nice product...   \n",
              "4  As good as original,Decent,Good one for second...   \n",
              "\n",
              "                                      review_content  \\\n",
              "0  Looks durable Charging is fine tooNo complains...   \n",
              "1  I ordered this cable to connect my phone to An...   \n",
              "2  Not quite durable and sturdy,https://m.media-a...   \n",
              "3  Good product,long wire,Charges good,Nice,I bou...   \n",
              "4  Bought this instead of original apple, does th...   \n",
              "\n",
              "                                            img_link  \\\n",
              "0  https://m.media-amazon.com/images/W/WEBP_40237...   \n",
              "1  https://m.media-amazon.com/images/W/WEBP_40237...   \n",
              "2  https://m.media-amazon.com/images/W/WEBP_40237...   \n",
              "3  https://m.media-amazon.com/images/I/41V5FtEWPk...   \n",
              "4  https://m.media-amazon.com/images/W/WEBP_40237...   \n",
              "\n",
              "                                        product_link  \n",
              "0  https://www.amazon.in/Wayona-Braided-WN3LG1-Sy...  \n",
              "1  https://www.amazon.in/Ambrane-Unbreakable-Char...  \n",
              "2  https://www.amazon.in/Sounce-iPhone-Charging-C...  \n",
              "3  https://www.amazon.in/Deuce-300-Resistant-Tang...  \n",
              "4  https://www.amazon.in/Portronics-Konnect-POR-1...  "
            ]
          },
          "execution_count": 86,
          "metadata": {},
          "output_type": "execute_result"
        }
      ],
      "source": [
        "url = 'https://raw.githubusercontent.com/fabricio-inoue/Amazon-Sales-Regression/main/amazon.csv'\n",
        "df_amazon = pd.read_csv(url)\n",
        "df_amazon.head()"
      ]
    },
    {
      "cell_type": "code",
      "execution_count": 87,
      "metadata": {
        "colab": {
          "base_uri": "https://localhost:8080/"
        },
        "id": "o7ZfdBixbV02",
        "outputId": "e7efa70f-22d4-4b6d-f21e-d574c9e80109"
      },
      "outputs": [
        {
          "name": "stdout",
          "output_type": "stream",
          "text": [
            "<class 'pandas.core.frame.DataFrame'>\n",
            "RangeIndex: 1465 entries, 0 to 1464\n",
            "Data columns (total 16 columns):\n",
            " #   Column               Non-Null Count  Dtype \n",
            "---  ------               --------------  ----- \n",
            " 0   product_id           1465 non-null   object\n",
            " 1   product_name         1465 non-null   object\n",
            " 2   category             1465 non-null   object\n",
            " 3   discounted_price     1465 non-null   object\n",
            " 4   actual_price         1465 non-null   object\n",
            " 5   discount_percentage  1465 non-null   object\n",
            " 6   rating               1465 non-null   object\n",
            " 7   rating_count         1463 non-null   object\n",
            " 8   about_product        1465 non-null   object\n",
            " 9   user_id              1465 non-null   object\n",
            " 10  user_name            1465 non-null   object\n",
            " 11  review_id            1465 non-null   object\n",
            " 12  review_title         1465 non-null   object\n",
            " 13  review_content       1465 non-null   object\n",
            " 14  img_link             1465 non-null   object\n",
            " 15  product_link         1465 non-null   object\n",
            "dtypes: object(16)\n",
            "memory usage: 183.2+ KB\n"
          ]
        }
      ],
      "source": [
        "df_amazon.info()"
      ]
    },
    {
      "attachments": {},
      "cell_type": "markdown",
      "metadata": {
        "id": "SqzLiG3pOcKj"
      },
      "source": [
        "# Conversion functions"
      ]
    },
    {
      "cell_type": "code",
      "execution_count": 88,
      "metadata": {
        "colab": {
          "base_uri": "https://localhost:8080/",
          "height": 1000
        },
        "id": "4Z2Bw923p-bB",
        "outputId": "4fd4d6e7-6c6d-4e68-ebcf-64a33dfbf5d7"
      },
      "outputs": [
        {
          "data": {
            "text/html": [
              "<div>\n",
              "<style scoped>\n",
              "    .dataframe tbody tr th:only-of-type {\n",
              "        vertical-align: middle;\n",
              "    }\n",
              "\n",
              "    .dataframe tbody tr th {\n",
              "        vertical-align: top;\n",
              "    }\n",
              "\n",
              "    .dataframe thead th {\n",
              "        text-align: right;\n",
              "    }\n",
              "</style>\n",
              "<table border=\"1\" class=\"dataframe\">\n",
              "  <thead>\n",
              "    <tr style=\"text-align: right;\">\n",
              "      <th></th>\n",
              "      <th>product_id</th>\n",
              "      <th>product_name</th>\n",
              "      <th>category</th>\n",
              "      <th>discounted_price</th>\n",
              "      <th>actual_price</th>\n",
              "      <th>discount_percentage</th>\n",
              "      <th>rating</th>\n",
              "      <th>rating_count</th>\n",
              "      <th>about_product</th>\n",
              "      <th>user_id</th>\n",
              "      <th>user_name</th>\n",
              "      <th>review_id</th>\n",
              "      <th>review_title</th>\n",
              "      <th>review_content</th>\n",
              "      <th>img_link</th>\n",
              "      <th>product_link</th>\n",
              "    </tr>\n",
              "  </thead>\n",
              "  <tbody>\n",
              "    <tr>\n",
              "      <th>0</th>\n",
              "      <td>B07JW9H4J1</td>\n",
              "      <td>Wayona Nylon Braided USB to Lightning Fast Cha...</td>\n",
              "      <td>Computers&amp;Accessories|Accessories&amp;Peripherals|...</td>\n",
              "      <td>399.0</td>\n",
              "      <td>1099.0</td>\n",
              "      <td>64%</td>\n",
              "      <td>4.2</td>\n",
              "      <td>24269.0</td>\n",
              "      <td>High Compatibility : Compatible With iPhone 12...</td>\n",
              "      <td>AG3D6O4STAQKAY2UVGEUV46KN35Q,AHMY5CWJMMK5BJRBB...</td>\n",
              "      <td>Manav,Adarsh gupta,Sundeep,S.Sayeed Ahmed,jasp...</td>\n",
              "      <td>R3HXWT0LRP0NMF,R2AJM3LFTLZHFO,R6AQJGUP6P86,R1K...</td>\n",
              "      <td>Satisfied,Charging is really fast,Value for mo...</td>\n",
              "      <td>Looks durable Charging is fine tooNo complains...</td>\n",
              "      <td>https://m.media-amazon.com/images/W/WEBP_40237...</td>\n",
              "      <td>https://www.amazon.in/Wayona-Braided-WN3LG1-Sy...</td>\n",
              "    </tr>\n",
              "    <tr>\n",
              "      <th>1</th>\n",
              "      <td>B098NS6PVG</td>\n",
              "      <td>Ambrane Unbreakable 60W / 3A Fast Charging 1.5...</td>\n",
              "      <td>Computers&amp;Accessories|Accessories&amp;Peripherals|...</td>\n",
              "      <td>199.0</td>\n",
              "      <td>349.0</td>\n",
              "      <td>43%</td>\n",
              "      <td>4.0</td>\n",
              "      <td>43994.0</td>\n",
              "      <td>Compatible with all Type C enabled devices, be...</td>\n",
              "      <td>AECPFYFQVRUWC3KGNLJIOREFP5LQ,AGYYVPDD7YG7FYNBX...</td>\n",
              "      <td>ArdKn,Nirbhay kumar,Sagar Viswanathan,Asp,Plac...</td>\n",
              "      <td>RGIQEG07R9HS2,R1SMWZQ86XIN8U,R2J3Y1WL29GWDE,RY...</td>\n",
              "      <td>A Good Braided Cable for Your Type C Device,Go...</td>\n",
              "      <td>I ordered this cable to connect my phone to An...</td>\n",
              "      <td>https://m.media-amazon.com/images/W/WEBP_40237...</td>\n",
              "      <td>https://www.amazon.in/Ambrane-Unbreakable-Char...</td>\n",
              "    </tr>\n",
              "    <tr>\n",
              "      <th>2</th>\n",
              "      <td>B096MSW6CT</td>\n",
              "      <td>Sounce Fast Phone Charging Cable &amp; Data Sync U...</td>\n",
              "      <td>Computers&amp;Accessories|Accessories&amp;Peripherals|...</td>\n",
              "      <td>199.0</td>\n",
              "      <td>1899.0</td>\n",
              "      <td>90%</td>\n",
              "      <td>3.9</td>\n",
              "      <td>7928.0</td>\n",
              "      <td>【 Fast Charger&amp; Data Sync】-With built-in safet...</td>\n",
              "      <td>AGU3BBQ2V2DDAMOAKGFAWDDQ6QHA,AESFLDV2PT363T2AQ...</td>\n",
              "      <td>Kunal,Himanshu,viswanath,sai niharka,saqib mal...</td>\n",
              "      <td>R3J3EQQ9TZI5ZJ,R3E7WBGK7ID0KV,RWU79XKQ6I1QF,R2...</td>\n",
              "      <td>Good speed for earlier versions,Good Product,W...</td>\n",
              "      <td>Not quite durable and sturdy,https://m.media-a...</td>\n",
              "      <td>https://m.media-amazon.com/images/W/WEBP_40237...</td>\n",
              "      <td>https://www.amazon.in/Sounce-iPhone-Charging-C...</td>\n",
              "    </tr>\n",
              "    <tr>\n",
              "      <th>3</th>\n",
              "      <td>B08HDJ86NZ</td>\n",
              "      <td>boAt Deuce USB 300 2 in 1 Type-C &amp; Micro USB S...</td>\n",
              "      <td>Computers&amp;Accessories|Accessories&amp;Peripherals|...</td>\n",
              "      <td>329.0</td>\n",
              "      <td>699.0</td>\n",
              "      <td>53%</td>\n",
              "      <td>4.2</td>\n",
              "      <td>94363.0</td>\n",
              "      <td>The boAt Deuce USB 300 2 in 1 cable is compati...</td>\n",
              "      <td>AEWAZDZZJLQUYVOVGBEUKSLXHQ5A,AG5HTSFRRE6NL3M5S...</td>\n",
              "      <td>Omkar dhale,JD,HEMALATHA,Ajwadh a.,amar singh ...</td>\n",
              "      <td>R3EEUZKKK9J36I,R3HJVYCLYOY554,REDECAZ7AMPQC,R1...</td>\n",
              "      <td>Good product,Good one,Nice,Really nice product...</td>\n",
              "      <td>Good product,long wire,Charges good,Nice,I bou...</td>\n",
              "      <td>https://m.media-amazon.com/images/I/41V5FtEWPk...</td>\n",
              "      <td>https://www.amazon.in/Deuce-300-Resistant-Tang...</td>\n",
              "    </tr>\n",
              "    <tr>\n",
              "      <th>4</th>\n",
              "      <td>B08CF3B7N1</td>\n",
              "      <td>Portronics Konnect L 1.2M Fast Charging 3A 8 P...</td>\n",
              "      <td>Computers&amp;Accessories|Accessories&amp;Peripherals|...</td>\n",
              "      <td>154.0</td>\n",
              "      <td>399.0</td>\n",
              "      <td>61%</td>\n",
              "      <td>4.2</td>\n",
              "      <td>16905.0</td>\n",
              "      <td>[CHARGE &amp; SYNC FUNCTION]- This cable comes wit...</td>\n",
              "      <td>AE3Q6KSUK5P75D5HFYHCRAOLODSA,AFUGIFH5ZAFXRDSZH...</td>\n",
              "      <td>rahuls6099,Swasat Borah,Ajay Wadke,Pranali,RVK...</td>\n",
              "      <td>R1BP4L2HH9TFUP,R16PVJEXKV6QZS,R2UPDB81N66T4P,R...</td>\n",
              "      <td>As good as original,Decent,Good one for second...</td>\n",
              "      <td>Bought this instead of original apple, does th...</td>\n",
              "      <td>https://m.media-amazon.com/images/W/WEBP_40237...</td>\n",
              "      <td>https://www.amazon.in/Portronics-Konnect-POR-1...</td>\n",
              "    </tr>\n",
              "    <tr>\n",
              "      <th>...</th>\n",
              "      <td>...</td>\n",
              "      <td>...</td>\n",
              "      <td>...</td>\n",
              "      <td>...</td>\n",
              "      <td>...</td>\n",
              "      <td>...</td>\n",
              "      <td>...</td>\n",
              "      <td>...</td>\n",
              "      <td>...</td>\n",
              "      <td>...</td>\n",
              "      <td>...</td>\n",
              "      <td>...</td>\n",
              "      <td>...</td>\n",
              "      <td>...</td>\n",
              "      <td>...</td>\n",
              "      <td>...</td>\n",
              "    </tr>\n",
              "    <tr>\n",
              "      <th>1460</th>\n",
              "      <td>B08L7J3T31</td>\n",
              "      <td>Noir Aqua - 5pcs PP Spun Filter + 1 Spanner | ...</td>\n",
              "      <td>Home&amp;Kitchen|Kitchen&amp;HomeAppliances|WaterPurif...</td>\n",
              "      <td>379.0</td>\n",
              "      <td>919.0</td>\n",
              "      <td>59%</td>\n",
              "      <td>4</td>\n",
              "      <td>1090.0</td>\n",
              "      <td>SUPREME QUALITY 90 GRAM 3 LAYER THIK PP SPUN F...</td>\n",
              "      <td>AHITFY6AHALOFOHOZEOC6XBP4FEA,AFRABBODZJZQB6Z4U...</td>\n",
              "      <td>Prabha ds,Raghuram bk,Real Deal,Amazon Custome...</td>\n",
              "      <td>R3G3XFHPBFF0E8,R3C0BZCD32EIGW,R2EBVBCN9QPD9R,R...</td>\n",
              "      <td>Received the product without spanner,Excellent...</td>\n",
              "      <td>I received product without spanner,Excellent p...</td>\n",
              "      <td>https://m.media-amazon.com/images/I/41fDdRtjfx...</td>\n",
              "      <td>https://www.amazon.in/Noir-Aqua-Spanner-Purifi...</td>\n",
              "    </tr>\n",
              "    <tr>\n",
              "      <th>1461</th>\n",
              "      <td>B01M6453MB</td>\n",
              "      <td>Prestige Delight PRWO Electric Rice Cooker (1 ...</td>\n",
              "      <td>Home&amp;Kitchen|Kitchen&amp;HomeAppliances|SmallKitch...</td>\n",
              "      <td>2280.0</td>\n",
              "      <td>3045.0</td>\n",
              "      <td>25%</td>\n",
              "      <td>4.1</td>\n",
              "      <td>4118.0</td>\n",
              "      <td>230 Volts, 400 watts, 1 Year</td>\n",
              "      <td>AFG5FM3NEMOL6BNFRV2NK5FNJCHQ,AGEINTRN6Z563RMLH...</td>\n",
              "      <td>Manu Bhai,Naveenpittu,Evatira Sangma,JAGANNADH...</td>\n",
              "      <td>R3DDL2UPKQ2CK9,R2SYYU1OATVIU5,R1VM993161IYRW,R...</td>\n",
              "      <td>ok,everything was good couldn't return bcoz I ...</td>\n",
              "      <td>ok,got everything as mentioned but the measuri...</td>\n",
              "      <td>https://m.media-amazon.com/images/I/41gzDxk4+k...</td>\n",
              "      <td>https://www.amazon.in/Prestige-Delight-PRWO-1-...</td>\n",
              "    </tr>\n",
              "    <tr>\n",
              "      <th>1462</th>\n",
              "      <td>B009P2LIL4</td>\n",
              "      <td>Bajaj Majesty RX10 2000 Watts Heat Convector R...</td>\n",
              "      <td>Home&amp;Kitchen|Heating,Cooling&amp;AirQuality|RoomHe...</td>\n",
              "      <td>2219.0</td>\n",
              "      <td>3080.0</td>\n",
              "      <td>28%</td>\n",
              "      <td>3.6</td>\n",
              "      <td>468.0</td>\n",
              "      <td>International design and styling|Two heat sett...</td>\n",
              "      <td>AGVPWCMAHYQWJOQKMUJN4DW3KM5Q,AF4Q3E66MY4SR7YQZ...</td>\n",
              "      <td>Nehal Desai,Danish Parwez,Amazon Customer,Amaz...</td>\n",
              "      <td>R1TLRJVW4STY5I,R2O455KRN493R1,R3Q5MVGBRIAS2G,R...</td>\n",
              "      <td>very good,Work but front melt after 2 month,Go...</td>\n",
              "      <td>plastic but cool body ,u have to find sturdy s...</td>\n",
              "      <td>https://m.media-amazon.com/images/W/WEBP_40237...</td>\n",
              "      <td>https://www.amazon.in/Bajaj-RX-10-2000-Watt-Co...</td>\n",
              "    </tr>\n",
              "    <tr>\n",
              "      <th>1463</th>\n",
              "      <td>B00J5DYCCA</td>\n",
              "      <td>Havells Ventil Air DSP 230mm Exhaust Fan (Pist...</td>\n",
              "      <td>Home&amp;Kitchen|Heating,Cooling&amp;AirQuality|Fans|E...</td>\n",
              "      <td>1399.0</td>\n",
              "      <td>1890.0</td>\n",
              "      <td>26%</td>\n",
              "      <td>4</td>\n",
              "      <td>8031.0</td>\n",
              "      <td>Fan sweep area: 230 MM ; Noise level: (40 - 45...</td>\n",
              "      <td>AF2JQCLSCY3QJATWUNNHUSVUPNQQ,AFDMLUXC5LS5RXDJS...</td>\n",
              "      <td>Shubham Dubey,E.GURUBARAN,Mayank S.,eusuf khan...</td>\n",
              "      <td>R39Q2Y79MM9SWK,R3079BG1NIH6MB,R29A31ZELTZNJM,R...</td>\n",
              "      <td>Fan Speed is slow,Good quality,Good product,go...</td>\n",
              "      <td>I have installed this in my kitchen working fi...</td>\n",
              "      <td>https://m.media-amazon.com/images/W/WEBP_40237...</td>\n",
              "      <td>https://www.amazon.in/Havells-Ventilair-230mm-...</td>\n",
              "    </tr>\n",
              "    <tr>\n",
              "      <th>1464</th>\n",
              "      <td>B01486F4G6</td>\n",
              "      <td>Borosil Jumbo 1000-Watt Grill Sandwich Maker (...</td>\n",
              "      <td>Home&amp;Kitchen|Kitchen&amp;HomeAppliances|SmallKitch...</td>\n",
              "      <td>2863.0</td>\n",
              "      <td>3690.0</td>\n",
              "      <td>22%</td>\n",
              "      <td>4.3</td>\n",
              "      <td>6987.0</td>\n",
              "      <td>Brand-Borosil, Specification â€“ 23V ~ 5Hz;1 W...</td>\n",
              "      <td>AFGW5PT3R6ZAVQR4Y5MWVAKBZAYA,AG7QNJ2SCS5VS5VYY...</td>\n",
              "      <td>Rajib,Ajay B,Vikas Kahol,PARDEEP,Anindya Prama...</td>\n",
              "      <td>R20RBRZ0WEUJT9,ROKIFK9R2ISSE,R30EEG2FNJSN5I,R2...</td>\n",
              "      <td>Works perfect,Ok good product,Nice Product. Re...</td>\n",
              "      <td>It does it job perfectly..only issue is temp c...</td>\n",
              "      <td>https://m.media-amazon.com/images/W/WEBP_40237...</td>\n",
              "      <td>https://www.amazon.in/Borosil-Jumbo-1000-Watt-...</td>\n",
              "    </tr>\n",
              "  </tbody>\n",
              "</table>\n",
              "<p>1465 rows × 16 columns</p>\n",
              "</div>"
            ],
            "text/plain": [
              "      product_id                                       product_name  \\\n",
              "0     B07JW9H4J1  Wayona Nylon Braided USB to Lightning Fast Cha...   \n",
              "1     B098NS6PVG  Ambrane Unbreakable 60W / 3A Fast Charging 1.5...   \n",
              "2     B096MSW6CT  Sounce Fast Phone Charging Cable & Data Sync U...   \n",
              "3     B08HDJ86NZ  boAt Deuce USB 300 2 in 1 Type-C & Micro USB S...   \n",
              "4     B08CF3B7N1  Portronics Konnect L 1.2M Fast Charging 3A 8 P...   \n",
              "...          ...                                                ...   \n",
              "1460  B08L7J3T31  Noir Aqua - 5pcs PP Spun Filter + 1 Spanner | ...   \n",
              "1461  B01M6453MB  Prestige Delight PRWO Electric Rice Cooker (1 ...   \n",
              "1462  B009P2LIL4  Bajaj Majesty RX10 2000 Watts Heat Convector R...   \n",
              "1463  B00J5DYCCA  Havells Ventil Air DSP 230mm Exhaust Fan (Pist...   \n",
              "1464  B01486F4G6  Borosil Jumbo 1000-Watt Grill Sandwich Maker (...   \n",
              "\n",
              "                                               category  discounted_price  \\\n",
              "0     Computers&Accessories|Accessories&Peripherals|...             399.0   \n",
              "1     Computers&Accessories|Accessories&Peripherals|...             199.0   \n",
              "2     Computers&Accessories|Accessories&Peripherals|...             199.0   \n",
              "3     Computers&Accessories|Accessories&Peripherals|...             329.0   \n",
              "4     Computers&Accessories|Accessories&Peripherals|...             154.0   \n",
              "...                                                 ...               ...   \n",
              "1460  Home&Kitchen|Kitchen&HomeAppliances|WaterPurif...             379.0   \n",
              "1461  Home&Kitchen|Kitchen&HomeAppliances|SmallKitch...            2280.0   \n",
              "1462  Home&Kitchen|Heating,Cooling&AirQuality|RoomHe...            2219.0   \n",
              "1463  Home&Kitchen|Heating,Cooling&AirQuality|Fans|E...            1399.0   \n",
              "1464  Home&Kitchen|Kitchen&HomeAppliances|SmallKitch...            2863.0   \n",
              "\n",
              "      actual_price discount_percentage rating rating_count  \\\n",
              "0           1099.0                 64%    4.2      24269.0   \n",
              "1            349.0                 43%    4.0      43994.0   \n",
              "2           1899.0                 90%    3.9       7928.0   \n",
              "3            699.0                 53%    4.2      94363.0   \n",
              "4            399.0                 61%    4.2      16905.0   \n",
              "...            ...                 ...    ...          ...   \n",
              "1460         919.0                 59%      4       1090.0   \n",
              "1461        3045.0                 25%    4.1       4118.0   \n",
              "1462        3080.0                 28%    3.6        468.0   \n",
              "1463        1890.0                 26%      4       8031.0   \n",
              "1464        3690.0                 22%    4.3       6987.0   \n",
              "\n",
              "                                          about_product  \\\n",
              "0     High Compatibility : Compatible With iPhone 12...   \n",
              "1     Compatible with all Type C enabled devices, be...   \n",
              "2     【 Fast Charger& Data Sync】-With built-in safet...   \n",
              "3     The boAt Deuce USB 300 2 in 1 cable is compati...   \n",
              "4     [CHARGE & SYNC FUNCTION]- This cable comes wit...   \n",
              "...                                                 ...   \n",
              "1460  SUPREME QUALITY 90 GRAM 3 LAYER THIK PP SPUN F...   \n",
              "1461                       230 Volts, 400 watts, 1 Year   \n",
              "1462  International design and styling|Two heat sett...   \n",
              "1463  Fan sweep area: 230 MM ; Noise level: (40 - 45...   \n",
              "1464  Brand-Borosil, Specification â€“ 23V ~ 5Hz;1 W...   \n",
              "\n",
              "                                                user_id  \\\n",
              "0     AG3D6O4STAQKAY2UVGEUV46KN35Q,AHMY5CWJMMK5BJRBB...   \n",
              "1     AECPFYFQVRUWC3KGNLJIOREFP5LQ,AGYYVPDD7YG7FYNBX...   \n",
              "2     AGU3BBQ2V2DDAMOAKGFAWDDQ6QHA,AESFLDV2PT363T2AQ...   \n",
              "3     AEWAZDZZJLQUYVOVGBEUKSLXHQ5A,AG5HTSFRRE6NL3M5S...   \n",
              "4     AE3Q6KSUK5P75D5HFYHCRAOLODSA,AFUGIFH5ZAFXRDSZH...   \n",
              "...                                                 ...   \n",
              "1460  AHITFY6AHALOFOHOZEOC6XBP4FEA,AFRABBODZJZQB6Z4U...   \n",
              "1461  AFG5FM3NEMOL6BNFRV2NK5FNJCHQ,AGEINTRN6Z563RMLH...   \n",
              "1462  AGVPWCMAHYQWJOQKMUJN4DW3KM5Q,AF4Q3E66MY4SR7YQZ...   \n",
              "1463  AF2JQCLSCY3QJATWUNNHUSVUPNQQ,AFDMLUXC5LS5RXDJS...   \n",
              "1464  AFGW5PT3R6ZAVQR4Y5MWVAKBZAYA,AG7QNJ2SCS5VS5VYY...   \n",
              "\n",
              "                                              user_name  \\\n",
              "0     Manav,Adarsh gupta,Sundeep,S.Sayeed Ahmed,jasp...   \n",
              "1     ArdKn,Nirbhay kumar,Sagar Viswanathan,Asp,Plac...   \n",
              "2     Kunal,Himanshu,viswanath,sai niharka,saqib mal...   \n",
              "3     Omkar dhale,JD,HEMALATHA,Ajwadh a.,amar singh ...   \n",
              "4     rahuls6099,Swasat Borah,Ajay Wadke,Pranali,RVK...   \n",
              "...                                                 ...   \n",
              "1460  Prabha ds,Raghuram bk,Real Deal,Amazon Custome...   \n",
              "1461  Manu Bhai,Naveenpittu,Evatira Sangma,JAGANNADH...   \n",
              "1462  Nehal Desai,Danish Parwez,Amazon Customer,Amaz...   \n",
              "1463  Shubham Dubey,E.GURUBARAN,Mayank S.,eusuf khan...   \n",
              "1464  Rajib,Ajay B,Vikas Kahol,PARDEEP,Anindya Prama...   \n",
              "\n",
              "                                              review_id  \\\n",
              "0     R3HXWT0LRP0NMF,R2AJM3LFTLZHFO,R6AQJGUP6P86,R1K...   \n",
              "1     RGIQEG07R9HS2,R1SMWZQ86XIN8U,R2J3Y1WL29GWDE,RY...   \n",
              "2     R3J3EQQ9TZI5ZJ,R3E7WBGK7ID0KV,RWU79XKQ6I1QF,R2...   \n",
              "3     R3EEUZKKK9J36I,R3HJVYCLYOY554,REDECAZ7AMPQC,R1...   \n",
              "4     R1BP4L2HH9TFUP,R16PVJEXKV6QZS,R2UPDB81N66T4P,R...   \n",
              "...                                                 ...   \n",
              "1460  R3G3XFHPBFF0E8,R3C0BZCD32EIGW,R2EBVBCN9QPD9R,R...   \n",
              "1461  R3DDL2UPKQ2CK9,R2SYYU1OATVIU5,R1VM993161IYRW,R...   \n",
              "1462  R1TLRJVW4STY5I,R2O455KRN493R1,R3Q5MVGBRIAS2G,R...   \n",
              "1463  R39Q2Y79MM9SWK,R3079BG1NIH6MB,R29A31ZELTZNJM,R...   \n",
              "1464  R20RBRZ0WEUJT9,ROKIFK9R2ISSE,R30EEG2FNJSN5I,R2...   \n",
              "\n",
              "                                           review_title  \\\n",
              "0     Satisfied,Charging is really fast,Value for mo...   \n",
              "1     A Good Braided Cable for Your Type C Device,Go...   \n",
              "2     Good speed for earlier versions,Good Product,W...   \n",
              "3     Good product,Good one,Nice,Really nice product...   \n",
              "4     As good as original,Decent,Good one for second...   \n",
              "...                                                 ...   \n",
              "1460  Received the product without spanner,Excellent...   \n",
              "1461  ok,everything was good couldn't return bcoz I ...   \n",
              "1462  very good,Work but front melt after 2 month,Go...   \n",
              "1463  Fan Speed is slow,Good quality,Good product,go...   \n",
              "1464  Works perfect,Ok good product,Nice Product. Re...   \n",
              "\n",
              "                                         review_content  \\\n",
              "0     Looks durable Charging is fine tooNo complains...   \n",
              "1     I ordered this cable to connect my phone to An...   \n",
              "2     Not quite durable and sturdy,https://m.media-a...   \n",
              "3     Good product,long wire,Charges good,Nice,I bou...   \n",
              "4     Bought this instead of original apple, does th...   \n",
              "...                                                 ...   \n",
              "1460  I received product without spanner,Excellent p...   \n",
              "1461  ok,got everything as mentioned but the measuri...   \n",
              "1462  plastic but cool body ,u have to find sturdy s...   \n",
              "1463  I have installed this in my kitchen working fi...   \n",
              "1464  It does it job perfectly..only issue is temp c...   \n",
              "\n",
              "                                               img_link  \\\n",
              "0     https://m.media-amazon.com/images/W/WEBP_40237...   \n",
              "1     https://m.media-amazon.com/images/W/WEBP_40237...   \n",
              "2     https://m.media-amazon.com/images/W/WEBP_40237...   \n",
              "3     https://m.media-amazon.com/images/I/41V5FtEWPk...   \n",
              "4     https://m.media-amazon.com/images/W/WEBP_40237...   \n",
              "...                                                 ...   \n",
              "1460  https://m.media-amazon.com/images/I/41fDdRtjfx...   \n",
              "1461  https://m.media-amazon.com/images/I/41gzDxk4+k...   \n",
              "1462  https://m.media-amazon.com/images/W/WEBP_40237...   \n",
              "1463  https://m.media-amazon.com/images/W/WEBP_40237...   \n",
              "1464  https://m.media-amazon.com/images/W/WEBP_40237...   \n",
              "\n",
              "                                           product_link  \n",
              "0     https://www.amazon.in/Wayona-Braided-WN3LG1-Sy...  \n",
              "1     https://www.amazon.in/Ambrane-Unbreakable-Char...  \n",
              "2     https://www.amazon.in/Sounce-iPhone-Charging-C...  \n",
              "3     https://www.amazon.in/Deuce-300-Resistant-Tang...  \n",
              "4     https://www.amazon.in/Portronics-Konnect-POR-1...  \n",
              "...                                                 ...  \n",
              "1460  https://www.amazon.in/Noir-Aqua-Spanner-Purifi...  \n",
              "1461  https://www.amazon.in/Prestige-Delight-PRWO-1-...  \n",
              "1462  https://www.amazon.in/Bajaj-RX-10-2000-Watt-Co...  \n",
              "1463  https://www.amazon.in/Havells-Ventilair-230mm-...  \n",
              "1464  https://www.amazon.in/Borosil-Jumbo-1000-Watt-...  \n",
              "\n",
              "[1465 rows x 16 columns]"
            ]
          },
          "execution_count": 88,
          "metadata": {},
          "output_type": "execute_result"
        }
      ],
      "source": [
        "import re\n",
        "\n",
        "def remove_symbol(df, column, symbol):\n",
        "    pattern = re.compile(re.escape(symbol))  # Define the search pattern as the specified symbol\n",
        "    df[column] = df[column].apply(lambda x: re.sub(pattern, '', str(x)))  # Remove the symbol from the column\n",
        "    df[column] = df[column].str.replace(',', '')  # Remove commas from the values\n",
        "    df[column] = df[column].apply(lambda x: float(x) if re.match(r'^-?\\d+(?:\\.\\d+)?$', x) else x)  # Convert only the numeric values to float\n",
        "    return df\n",
        "\n",
        "\n",
        "remove_symbol(df_amazon, 'discounted_price', '₹')\n",
        "remove_symbol(df_amazon, 'discounted_price', ',')\n",
        "remove_symbol(df_amazon, 'actual_price', '₹')\n",
        "remove_symbol(df_amazon, 'actual_price', ',')\n",
        "remove_symbol(df_amazon, 'rating_count', ',')"
      ]
    },
    {
      "cell_type": "code",
      "execution_count": 89,
      "metadata": {
        "colab": {
          "base_uri": "https://localhost:8080/",
          "height": 1000
        },
        "id": "3EFayRwVUIrI",
        "outputId": "df2fde13-e9b5-4662-973b-aca931de3a9c"
      },
      "outputs": [
        {
          "data": {
            "text/html": [
              "<div>\n",
              "<style scoped>\n",
              "    .dataframe tbody tr th:only-of-type {\n",
              "        vertical-align: middle;\n",
              "    }\n",
              "\n",
              "    .dataframe tbody tr th {\n",
              "        vertical-align: top;\n",
              "    }\n",
              "\n",
              "    .dataframe thead th {\n",
              "        text-align: right;\n",
              "    }\n",
              "</style>\n",
              "<table border=\"1\" class=\"dataframe\">\n",
              "  <thead>\n",
              "    <tr style=\"text-align: right;\">\n",
              "      <th></th>\n",
              "      <th>product_id</th>\n",
              "      <th>product_name</th>\n",
              "      <th>category</th>\n",
              "      <th>discounted_price</th>\n",
              "      <th>actual_price</th>\n",
              "      <th>discount_percentage</th>\n",
              "      <th>rating</th>\n",
              "      <th>rating_count</th>\n",
              "      <th>about_product</th>\n",
              "      <th>user_id</th>\n",
              "      <th>user_name</th>\n",
              "      <th>review_id</th>\n",
              "      <th>review_title</th>\n",
              "      <th>review_content</th>\n",
              "      <th>img_link</th>\n",
              "      <th>product_link</th>\n",
              "    </tr>\n",
              "  </thead>\n",
              "  <tbody>\n",
              "    <tr>\n",
              "      <th>0</th>\n",
              "      <td>B07JW9H4J1</td>\n",
              "      <td>Wayona Nylon Braided USB to Lightning Fast Cha...</td>\n",
              "      <td>Computers&amp;Accessories|Accessories&amp;Peripherals|...</td>\n",
              "      <td>4.88</td>\n",
              "      <td>13.45</td>\n",
              "      <td>64%</td>\n",
              "      <td>4.2</td>\n",
              "      <td>24269.0</td>\n",
              "      <td>High Compatibility : Compatible With iPhone 12...</td>\n",
              "      <td>AG3D6O4STAQKAY2UVGEUV46KN35Q,AHMY5CWJMMK5BJRBB...</td>\n",
              "      <td>Manav,Adarsh gupta,Sundeep,S.Sayeed Ahmed,jasp...</td>\n",
              "      <td>R3HXWT0LRP0NMF,R2AJM3LFTLZHFO,R6AQJGUP6P86,R1K...</td>\n",
              "      <td>Satisfied,Charging is really fast,Value for mo...</td>\n",
              "      <td>Looks durable Charging is fine tooNo complains...</td>\n",
              "      <td>https://m.media-amazon.com/images/W/WEBP_40237...</td>\n",
              "      <td>https://www.amazon.in/Wayona-Braided-WN3LG1-Sy...</td>\n",
              "    </tr>\n",
              "    <tr>\n",
              "      <th>1</th>\n",
              "      <td>B098NS6PVG</td>\n",
              "      <td>Ambrane Unbreakable 60W / 3A Fast Charging 1.5...</td>\n",
              "      <td>Computers&amp;Accessories|Accessories&amp;Peripherals|...</td>\n",
              "      <td>2.44</td>\n",
              "      <td>4.27</td>\n",
              "      <td>43%</td>\n",
              "      <td>4.0</td>\n",
              "      <td>43994.0</td>\n",
              "      <td>Compatible with all Type C enabled devices, be...</td>\n",
              "      <td>AECPFYFQVRUWC3KGNLJIOREFP5LQ,AGYYVPDD7YG7FYNBX...</td>\n",
              "      <td>ArdKn,Nirbhay kumar,Sagar Viswanathan,Asp,Plac...</td>\n",
              "      <td>RGIQEG07R9HS2,R1SMWZQ86XIN8U,R2J3Y1WL29GWDE,RY...</td>\n",
              "      <td>A Good Braided Cable for Your Type C Device,Go...</td>\n",
              "      <td>I ordered this cable to connect my phone to An...</td>\n",
              "      <td>https://m.media-amazon.com/images/W/WEBP_40237...</td>\n",
              "      <td>https://www.amazon.in/Ambrane-Unbreakable-Char...</td>\n",
              "    </tr>\n",
              "    <tr>\n",
              "      <th>2</th>\n",
              "      <td>B096MSW6CT</td>\n",
              "      <td>Sounce Fast Phone Charging Cable &amp; Data Sync U...</td>\n",
              "      <td>Computers&amp;Accessories|Accessories&amp;Peripherals|...</td>\n",
              "      <td>2.44</td>\n",
              "      <td>23.24</td>\n",
              "      <td>90%</td>\n",
              "      <td>3.9</td>\n",
              "      <td>7928.0</td>\n",
              "      <td>【 Fast Charger&amp; Data Sync】-With built-in safet...</td>\n",
              "      <td>AGU3BBQ2V2DDAMOAKGFAWDDQ6QHA,AESFLDV2PT363T2AQ...</td>\n",
              "      <td>Kunal,Himanshu,viswanath,sai niharka,saqib mal...</td>\n",
              "      <td>R3J3EQQ9TZI5ZJ,R3E7WBGK7ID0KV,RWU79XKQ6I1QF,R2...</td>\n",
              "      <td>Good speed for earlier versions,Good Product,W...</td>\n",
              "      <td>Not quite durable and sturdy,https://m.media-a...</td>\n",
              "      <td>https://m.media-amazon.com/images/W/WEBP_40237...</td>\n",
              "      <td>https://www.amazon.in/Sounce-iPhone-Charging-C...</td>\n",
              "    </tr>\n",
              "    <tr>\n",
              "      <th>3</th>\n",
              "      <td>B08HDJ86NZ</td>\n",
              "      <td>boAt Deuce USB 300 2 in 1 Type-C &amp; Micro USB S...</td>\n",
              "      <td>Computers&amp;Accessories|Accessories&amp;Peripherals|...</td>\n",
              "      <td>4.03</td>\n",
              "      <td>8.55</td>\n",
              "      <td>53%</td>\n",
              "      <td>4.2</td>\n",
              "      <td>94363.0</td>\n",
              "      <td>The boAt Deuce USB 300 2 in 1 cable is compati...</td>\n",
              "      <td>AEWAZDZZJLQUYVOVGBEUKSLXHQ5A,AG5HTSFRRE6NL3M5S...</td>\n",
              "      <td>Omkar dhale,JD,HEMALATHA,Ajwadh a.,amar singh ...</td>\n",
              "      <td>R3EEUZKKK9J36I,R3HJVYCLYOY554,REDECAZ7AMPQC,R1...</td>\n",
              "      <td>Good product,Good one,Nice,Really nice product...</td>\n",
              "      <td>Good product,long wire,Charges good,Nice,I bou...</td>\n",
              "      <td>https://m.media-amazon.com/images/I/41V5FtEWPk...</td>\n",
              "      <td>https://www.amazon.in/Deuce-300-Resistant-Tang...</td>\n",
              "    </tr>\n",
              "    <tr>\n",
              "      <th>4</th>\n",
              "      <td>B08CF3B7N1</td>\n",
              "      <td>Portronics Konnect L 1.2M Fast Charging 3A 8 P...</td>\n",
              "      <td>Computers&amp;Accessories|Accessories&amp;Peripherals|...</td>\n",
              "      <td>1.88</td>\n",
              "      <td>4.88</td>\n",
              "      <td>61%</td>\n",
              "      <td>4.2</td>\n",
              "      <td>16905.0</td>\n",
              "      <td>[CHARGE &amp; SYNC FUNCTION]- This cable comes wit...</td>\n",
              "      <td>AE3Q6KSUK5P75D5HFYHCRAOLODSA,AFUGIFH5ZAFXRDSZH...</td>\n",
              "      <td>rahuls6099,Swasat Borah,Ajay Wadke,Pranali,RVK...</td>\n",
              "      <td>R1BP4L2HH9TFUP,R16PVJEXKV6QZS,R2UPDB81N66T4P,R...</td>\n",
              "      <td>As good as original,Decent,Good one for second...</td>\n",
              "      <td>Bought this instead of original apple, does th...</td>\n",
              "      <td>https://m.media-amazon.com/images/W/WEBP_40237...</td>\n",
              "      <td>https://www.amazon.in/Portronics-Konnect-POR-1...</td>\n",
              "    </tr>\n",
              "    <tr>\n",
              "      <th>...</th>\n",
              "      <td>...</td>\n",
              "      <td>...</td>\n",
              "      <td>...</td>\n",
              "      <td>...</td>\n",
              "      <td>...</td>\n",
              "      <td>...</td>\n",
              "      <td>...</td>\n",
              "      <td>...</td>\n",
              "      <td>...</td>\n",
              "      <td>...</td>\n",
              "      <td>...</td>\n",
              "      <td>...</td>\n",
              "      <td>...</td>\n",
              "      <td>...</td>\n",
              "      <td>...</td>\n",
              "      <td>...</td>\n",
              "    </tr>\n",
              "    <tr>\n",
              "      <th>1460</th>\n",
              "      <td>B08L7J3T31</td>\n",
              "      <td>Noir Aqua - 5pcs PP Spun Filter + 1 Spanner | ...</td>\n",
              "      <td>Home&amp;Kitchen|Kitchen&amp;HomeAppliances|WaterPurif...</td>\n",
              "      <td>4.64</td>\n",
              "      <td>11.25</td>\n",
              "      <td>59%</td>\n",
              "      <td>4</td>\n",
              "      <td>1090.0</td>\n",
              "      <td>SUPREME QUALITY 90 GRAM 3 LAYER THIK PP SPUN F...</td>\n",
              "      <td>AHITFY6AHALOFOHOZEOC6XBP4FEA,AFRABBODZJZQB6Z4U...</td>\n",
              "      <td>Prabha ds,Raghuram bk,Real Deal,Amazon Custome...</td>\n",
              "      <td>R3G3XFHPBFF0E8,R3C0BZCD32EIGW,R2EBVBCN9QPD9R,R...</td>\n",
              "      <td>Received the product without spanner,Excellent...</td>\n",
              "      <td>I received product without spanner,Excellent p...</td>\n",
              "      <td>https://m.media-amazon.com/images/I/41fDdRtjfx...</td>\n",
              "      <td>https://www.amazon.in/Noir-Aqua-Spanner-Purifi...</td>\n",
              "    </tr>\n",
              "    <tr>\n",
              "      <th>1461</th>\n",
              "      <td>B01M6453MB</td>\n",
              "      <td>Prestige Delight PRWO Electric Rice Cooker (1 ...</td>\n",
              "      <td>Home&amp;Kitchen|Kitchen&amp;HomeAppliances|SmallKitch...</td>\n",
              "      <td>27.90</td>\n",
              "      <td>37.26</td>\n",
              "      <td>25%</td>\n",
              "      <td>4.1</td>\n",
              "      <td>4118.0</td>\n",
              "      <td>230 Volts, 400 watts, 1 Year</td>\n",
              "      <td>AFG5FM3NEMOL6BNFRV2NK5FNJCHQ,AGEINTRN6Z563RMLH...</td>\n",
              "      <td>Manu Bhai,Naveenpittu,Evatira Sangma,JAGANNADH...</td>\n",
              "      <td>R3DDL2UPKQ2CK9,R2SYYU1OATVIU5,R1VM993161IYRW,R...</td>\n",
              "      <td>ok,everything was good couldn't return bcoz I ...</td>\n",
              "      <td>ok,got everything as mentioned but the measuri...</td>\n",
              "      <td>https://m.media-amazon.com/images/I/41gzDxk4+k...</td>\n",
              "      <td>https://www.amazon.in/Prestige-Delight-PRWO-1-...</td>\n",
              "    </tr>\n",
              "    <tr>\n",
              "      <th>1462</th>\n",
              "      <td>B009P2LIL4</td>\n",
              "      <td>Bajaj Majesty RX10 2000 Watts Heat Convector R...</td>\n",
              "      <td>Home&amp;Kitchen|Heating,Cooling&amp;AirQuality|RoomHe...</td>\n",
              "      <td>27.15</td>\n",
              "      <td>37.69</td>\n",
              "      <td>28%</td>\n",
              "      <td>3.6</td>\n",
              "      <td>468.0</td>\n",
              "      <td>International design and styling|Two heat sett...</td>\n",
              "      <td>AGVPWCMAHYQWJOQKMUJN4DW3KM5Q,AF4Q3E66MY4SR7YQZ...</td>\n",
              "      <td>Nehal Desai,Danish Parwez,Amazon Customer,Amaz...</td>\n",
              "      <td>R1TLRJVW4STY5I,R2O455KRN493R1,R3Q5MVGBRIAS2G,R...</td>\n",
              "      <td>very good,Work but front melt after 2 month,Go...</td>\n",
              "      <td>plastic but cool body ,u have to find sturdy s...</td>\n",
              "      <td>https://m.media-amazon.com/images/W/WEBP_40237...</td>\n",
              "      <td>https://www.amazon.in/Bajaj-RX-10-2000-Watt-Co...</td>\n",
              "    </tr>\n",
              "    <tr>\n",
              "      <th>1463</th>\n",
              "      <td>B00J5DYCCA</td>\n",
              "      <td>Havells Ventil Air DSP 230mm Exhaust Fan (Pist...</td>\n",
              "      <td>Home&amp;Kitchen|Heating,Cooling&amp;AirQuality|Fans|E...</td>\n",
              "      <td>17.12</td>\n",
              "      <td>23.13</td>\n",
              "      <td>26%</td>\n",
              "      <td>4</td>\n",
              "      <td>8031.0</td>\n",
              "      <td>Fan sweep area: 230 MM ; Noise level: (40 - 45...</td>\n",
              "      <td>AF2JQCLSCY3QJATWUNNHUSVUPNQQ,AFDMLUXC5LS5RXDJS...</td>\n",
              "      <td>Shubham Dubey,E.GURUBARAN,Mayank S.,eusuf khan...</td>\n",
              "      <td>R39Q2Y79MM9SWK,R3079BG1NIH6MB,R29A31ZELTZNJM,R...</td>\n",
              "      <td>Fan Speed is slow,Good quality,Good product,go...</td>\n",
              "      <td>I have installed this in my kitchen working fi...</td>\n",
              "      <td>https://m.media-amazon.com/images/W/WEBP_40237...</td>\n",
              "      <td>https://www.amazon.in/Havells-Ventilair-230mm-...</td>\n",
              "    </tr>\n",
              "    <tr>\n",
              "      <th>1464</th>\n",
              "      <td>B01486F4G6</td>\n",
              "      <td>Borosil Jumbo 1000-Watt Grill Sandwich Maker (...</td>\n",
              "      <td>Home&amp;Kitchen|Kitchen&amp;HomeAppliances|SmallKitch...</td>\n",
              "      <td>35.03</td>\n",
              "      <td>45.15</td>\n",
              "      <td>22%</td>\n",
              "      <td>4.3</td>\n",
              "      <td>6987.0</td>\n",
              "      <td>Brand-Borosil, Specification â€“ 23V ~ 5Hz;1 W...</td>\n",
              "      <td>AFGW5PT3R6ZAVQR4Y5MWVAKBZAYA,AG7QNJ2SCS5VS5VYY...</td>\n",
              "      <td>Rajib,Ajay B,Vikas Kahol,PARDEEP,Anindya Prama...</td>\n",
              "      <td>R20RBRZ0WEUJT9,ROKIFK9R2ISSE,R30EEG2FNJSN5I,R2...</td>\n",
              "      <td>Works perfect,Ok good product,Nice Product. Re...</td>\n",
              "      <td>It does it job perfectly..only issue is temp c...</td>\n",
              "      <td>https://m.media-amazon.com/images/W/WEBP_40237...</td>\n",
              "      <td>https://www.amazon.in/Borosil-Jumbo-1000-Watt-...</td>\n",
              "    </tr>\n",
              "  </tbody>\n",
              "</table>\n",
              "<p>1465 rows × 16 columns</p>\n",
              "</div>"
            ],
            "text/plain": [
              "      product_id                                       product_name  \\\n",
              "0     B07JW9H4J1  Wayona Nylon Braided USB to Lightning Fast Cha...   \n",
              "1     B098NS6PVG  Ambrane Unbreakable 60W / 3A Fast Charging 1.5...   \n",
              "2     B096MSW6CT  Sounce Fast Phone Charging Cable & Data Sync U...   \n",
              "3     B08HDJ86NZ  boAt Deuce USB 300 2 in 1 Type-C & Micro USB S...   \n",
              "4     B08CF3B7N1  Portronics Konnect L 1.2M Fast Charging 3A 8 P...   \n",
              "...          ...                                                ...   \n",
              "1460  B08L7J3T31  Noir Aqua - 5pcs PP Spun Filter + 1 Spanner | ...   \n",
              "1461  B01M6453MB  Prestige Delight PRWO Electric Rice Cooker (1 ...   \n",
              "1462  B009P2LIL4  Bajaj Majesty RX10 2000 Watts Heat Convector R...   \n",
              "1463  B00J5DYCCA  Havells Ventil Air DSP 230mm Exhaust Fan (Pist...   \n",
              "1464  B01486F4G6  Borosil Jumbo 1000-Watt Grill Sandwich Maker (...   \n",
              "\n",
              "                                               category  discounted_price  \\\n",
              "0     Computers&Accessories|Accessories&Peripherals|...              4.88   \n",
              "1     Computers&Accessories|Accessories&Peripherals|...              2.44   \n",
              "2     Computers&Accessories|Accessories&Peripherals|...              2.44   \n",
              "3     Computers&Accessories|Accessories&Peripherals|...              4.03   \n",
              "4     Computers&Accessories|Accessories&Peripherals|...              1.88   \n",
              "...                                                 ...               ...   \n",
              "1460  Home&Kitchen|Kitchen&HomeAppliances|WaterPurif...              4.64   \n",
              "1461  Home&Kitchen|Kitchen&HomeAppliances|SmallKitch...             27.90   \n",
              "1462  Home&Kitchen|Heating,Cooling&AirQuality|RoomHe...             27.15   \n",
              "1463  Home&Kitchen|Heating,Cooling&AirQuality|Fans|E...             17.12   \n",
              "1464  Home&Kitchen|Kitchen&HomeAppliances|SmallKitch...             35.03   \n",
              "\n",
              "      actual_price discount_percentage rating rating_count  \\\n",
              "0            13.45                 64%    4.2      24269.0   \n",
              "1             4.27                 43%    4.0      43994.0   \n",
              "2            23.24                 90%    3.9       7928.0   \n",
              "3             8.55                 53%    4.2      94363.0   \n",
              "4             4.88                 61%    4.2      16905.0   \n",
              "...            ...                 ...    ...          ...   \n",
              "1460         11.25                 59%      4       1090.0   \n",
              "1461         37.26                 25%    4.1       4118.0   \n",
              "1462         37.69                 28%    3.6        468.0   \n",
              "1463         23.13                 26%      4       8031.0   \n",
              "1464         45.15                 22%    4.3       6987.0   \n",
              "\n",
              "                                          about_product  \\\n",
              "0     High Compatibility : Compatible With iPhone 12...   \n",
              "1     Compatible with all Type C enabled devices, be...   \n",
              "2     【 Fast Charger& Data Sync】-With built-in safet...   \n",
              "3     The boAt Deuce USB 300 2 in 1 cable is compati...   \n",
              "4     [CHARGE & SYNC FUNCTION]- This cable comes wit...   \n",
              "...                                                 ...   \n",
              "1460  SUPREME QUALITY 90 GRAM 3 LAYER THIK PP SPUN F...   \n",
              "1461                       230 Volts, 400 watts, 1 Year   \n",
              "1462  International design and styling|Two heat sett...   \n",
              "1463  Fan sweep area: 230 MM ; Noise level: (40 - 45...   \n",
              "1464  Brand-Borosil, Specification â€“ 23V ~ 5Hz;1 W...   \n",
              "\n",
              "                                                user_id  \\\n",
              "0     AG3D6O4STAQKAY2UVGEUV46KN35Q,AHMY5CWJMMK5BJRBB...   \n",
              "1     AECPFYFQVRUWC3KGNLJIOREFP5LQ,AGYYVPDD7YG7FYNBX...   \n",
              "2     AGU3BBQ2V2DDAMOAKGFAWDDQ6QHA,AESFLDV2PT363T2AQ...   \n",
              "3     AEWAZDZZJLQUYVOVGBEUKSLXHQ5A,AG5HTSFRRE6NL3M5S...   \n",
              "4     AE3Q6KSUK5P75D5HFYHCRAOLODSA,AFUGIFH5ZAFXRDSZH...   \n",
              "...                                                 ...   \n",
              "1460  AHITFY6AHALOFOHOZEOC6XBP4FEA,AFRABBODZJZQB6Z4U...   \n",
              "1461  AFG5FM3NEMOL6BNFRV2NK5FNJCHQ,AGEINTRN6Z563RMLH...   \n",
              "1462  AGVPWCMAHYQWJOQKMUJN4DW3KM5Q,AF4Q3E66MY4SR7YQZ...   \n",
              "1463  AF2JQCLSCY3QJATWUNNHUSVUPNQQ,AFDMLUXC5LS5RXDJS...   \n",
              "1464  AFGW5PT3R6ZAVQR4Y5MWVAKBZAYA,AG7QNJ2SCS5VS5VYY...   \n",
              "\n",
              "                                              user_name  \\\n",
              "0     Manav,Adarsh gupta,Sundeep,S.Sayeed Ahmed,jasp...   \n",
              "1     ArdKn,Nirbhay kumar,Sagar Viswanathan,Asp,Plac...   \n",
              "2     Kunal,Himanshu,viswanath,sai niharka,saqib mal...   \n",
              "3     Omkar dhale,JD,HEMALATHA,Ajwadh a.,amar singh ...   \n",
              "4     rahuls6099,Swasat Borah,Ajay Wadke,Pranali,RVK...   \n",
              "...                                                 ...   \n",
              "1460  Prabha ds,Raghuram bk,Real Deal,Amazon Custome...   \n",
              "1461  Manu Bhai,Naveenpittu,Evatira Sangma,JAGANNADH...   \n",
              "1462  Nehal Desai,Danish Parwez,Amazon Customer,Amaz...   \n",
              "1463  Shubham Dubey,E.GURUBARAN,Mayank S.,eusuf khan...   \n",
              "1464  Rajib,Ajay B,Vikas Kahol,PARDEEP,Anindya Prama...   \n",
              "\n",
              "                                              review_id  \\\n",
              "0     R3HXWT0LRP0NMF,R2AJM3LFTLZHFO,R6AQJGUP6P86,R1K...   \n",
              "1     RGIQEG07R9HS2,R1SMWZQ86XIN8U,R2J3Y1WL29GWDE,RY...   \n",
              "2     R3J3EQQ9TZI5ZJ,R3E7WBGK7ID0KV,RWU79XKQ6I1QF,R2...   \n",
              "3     R3EEUZKKK9J36I,R3HJVYCLYOY554,REDECAZ7AMPQC,R1...   \n",
              "4     R1BP4L2HH9TFUP,R16PVJEXKV6QZS,R2UPDB81N66T4P,R...   \n",
              "...                                                 ...   \n",
              "1460  R3G3XFHPBFF0E8,R3C0BZCD32EIGW,R2EBVBCN9QPD9R,R...   \n",
              "1461  R3DDL2UPKQ2CK9,R2SYYU1OATVIU5,R1VM993161IYRW,R...   \n",
              "1462  R1TLRJVW4STY5I,R2O455KRN493R1,R3Q5MVGBRIAS2G,R...   \n",
              "1463  R39Q2Y79MM9SWK,R3079BG1NIH6MB,R29A31ZELTZNJM,R...   \n",
              "1464  R20RBRZ0WEUJT9,ROKIFK9R2ISSE,R30EEG2FNJSN5I,R2...   \n",
              "\n",
              "                                           review_title  \\\n",
              "0     Satisfied,Charging is really fast,Value for mo...   \n",
              "1     A Good Braided Cable for Your Type C Device,Go...   \n",
              "2     Good speed for earlier versions,Good Product,W...   \n",
              "3     Good product,Good one,Nice,Really nice product...   \n",
              "4     As good as original,Decent,Good one for second...   \n",
              "...                                                 ...   \n",
              "1460  Received the product without spanner,Excellent...   \n",
              "1461  ok,everything was good couldn't return bcoz I ...   \n",
              "1462  very good,Work but front melt after 2 month,Go...   \n",
              "1463  Fan Speed is slow,Good quality,Good product,go...   \n",
              "1464  Works perfect,Ok good product,Nice Product. Re...   \n",
              "\n",
              "                                         review_content  \\\n",
              "0     Looks durable Charging is fine tooNo complains...   \n",
              "1     I ordered this cable to connect my phone to An...   \n",
              "2     Not quite durable and sturdy,https://m.media-a...   \n",
              "3     Good product,long wire,Charges good,Nice,I bou...   \n",
              "4     Bought this instead of original apple, does th...   \n",
              "...                                                 ...   \n",
              "1460  I received product without spanner,Excellent p...   \n",
              "1461  ok,got everything as mentioned but the measuri...   \n",
              "1462  plastic but cool body ,u have to find sturdy s...   \n",
              "1463  I have installed this in my kitchen working fi...   \n",
              "1464  It does it job perfectly..only issue is temp c...   \n",
              "\n",
              "                                               img_link  \\\n",
              "0     https://m.media-amazon.com/images/W/WEBP_40237...   \n",
              "1     https://m.media-amazon.com/images/W/WEBP_40237...   \n",
              "2     https://m.media-amazon.com/images/W/WEBP_40237...   \n",
              "3     https://m.media-amazon.com/images/I/41V5FtEWPk...   \n",
              "4     https://m.media-amazon.com/images/W/WEBP_40237...   \n",
              "...                                                 ...   \n",
              "1460  https://m.media-amazon.com/images/I/41fDdRtjfx...   \n",
              "1461  https://m.media-amazon.com/images/I/41gzDxk4+k...   \n",
              "1462  https://m.media-amazon.com/images/W/WEBP_40237...   \n",
              "1463  https://m.media-amazon.com/images/W/WEBP_40237...   \n",
              "1464  https://m.media-amazon.com/images/W/WEBP_40237...   \n",
              "\n",
              "                                           product_link  \n",
              "0     https://www.amazon.in/Wayona-Braided-WN3LG1-Sy...  \n",
              "1     https://www.amazon.in/Ambrane-Unbreakable-Char...  \n",
              "2     https://www.amazon.in/Sounce-iPhone-Charging-C...  \n",
              "3     https://www.amazon.in/Deuce-300-Resistant-Tang...  \n",
              "4     https://www.amazon.in/Portronics-Konnect-POR-1...  \n",
              "...                                                 ...  \n",
              "1460  https://www.amazon.in/Noir-Aqua-Spanner-Purifi...  \n",
              "1461  https://www.amazon.in/Prestige-Delight-PRWO-1-...  \n",
              "1462  https://www.amazon.in/Bajaj-RX-10-2000-Watt-Co...  \n",
              "1463  https://www.amazon.in/Havells-Ventilair-230mm-...  \n",
              "1464  https://www.amazon.in/Borosil-Jumbo-1000-Watt-...  \n",
              "\n",
              "[1465 rows x 16 columns]"
            ]
          },
          "execution_count": 89,
          "metadata": {},
          "output_type": "execute_result"
        }
      ],
      "source": [
        "from forex_python.converter import CurrencyRates\n",
        "\n",
        "def convert_rupee_to_usd(df, column):\n",
        "    c = CurrencyRates()\n",
        "    exchange_rate = c.get_rate('INR', 'USD')  # Get the exchange rate between Indian Rupee (INR) and US Dollar (USD)\n",
        "    df[column] = df[column].apply(lambda x: x * exchange_rate)  # Convert rupee values to dollar using the exchange rate\n",
        "    df[column] = df[column].apply(lambda x: round(x, 2))\n",
        "    return df\n",
        "\n",
        "# Function calls\n",
        "convert_rupee_to_usd(df_amazon, 'discounted_price')\n",
        "convert_rupee_to_usd(df_amazon, 'actual_price')"
      ]
    },
    {
      "cell_type": "code",
      "execution_count": 90,
      "metadata": {
        "colab": {
          "base_uri": "https://localhost:8080/",
          "height": 1000
        },
        "id": "y0QD7u7mwv0P",
        "outputId": "216c3483-1af0-4922-bcf4-b6709889fe89"
      },
      "outputs": [
        {
          "data": {
            "text/html": [
              "<div>\n",
              "<style scoped>\n",
              "    .dataframe tbody tr th:only-of-type {\n",
              "        vertical-align: middle;\n",
              "    }\n",
              "\n",
              "    .dataframe tbody tr th {\n",
              "        vertical-align: top;\n",
              "    }\n",
              "\n",
              "    .dataframe thead th {\n",
              "        text-align: right;\n",
              "    }\n",
              "</style>\n",
              "<table border=\"1\" class=\"dataframe\">\n",
              "  <thead>\n",
              "    <tr style=\"text-align: right;\">\n",
              "      <th></th>\n",
              "      <th>product_id</th>\n",
              "      <th>product_name</th>\n",
              "      <th>category</th>\n",
              "      <th>discounted_price</th>\n",
              "      <th>actual_price</th>\n",
              "      <th>discount_percentage</th>\n",
              "      <th>rating</th>\n",
              "      <th>rating_count</th>\n",
              "      <th>about_product</th>\n",
              "      <th>user_id</th>\n",
              "      <th>user_name</th>\n",
              "      <th>review_id</th>\n",
              "      <th>review_title</th>\n",
              "      <th>review_content</th>\n",
              "      <th>img_link</th>\n",
              "      <th>product_link</th>\n",
              "    </tr>\n",
              "  </thead>\n",
              "  <tbody>\n",
              "    <tr>\n",
              "      <th>0</th>\n",
              "      <td>B07JW9H4J1</td>\n",
              "      <td>Wayona Nylon Braided USB to Lightning Fast Cha...</td>\n",
              "      <td>Computers&amp;Accessories|Accessories&amp;Peripherals|...</td>\n",
              "      <td>4.88</td>\n",
              "      <td>13.45</td>\n",
              "      <td>0.64</td>\n",
              "      <td>4.2</td>\n",
              "      <td>24269.0</td>\n",
              "      <td>High Compatibility : Compatible With iPhone 12...</td>\n",
              "      <td>AG3D6O4STAQKAY2UVGEUV46KN35Q,AHMY5CWJMMK5BJRBB...</td>\n",
              "      <td>Manav,Adarsh gupta,Sundeep,S.Sayeed Ahmed,jasp...</td>\n",
              "      <td>R3HXWT0LRP0NMF,R2AJM3LFTLZHFO,R6AQJGUP6P86,R1K...</td>\n",
              "      <td>Satisfied,Charging is really fast,Value for mo...</td>\n",
              "      <td>Looks durable Charging is fine tooNo complains...</td>\n",
              "      <td>https://m.media-amazon.com/images/W/WEBP_40237...</td>\n",
              "      <td>https://www.amazon.in/Wayona-Braided-WN3LG1-Sy...</td>\n",
              "    </tr>\n",
              "    <tr>\n",
              "      <th>1</th>\n",
              "      <td>B098NS6PVG</td>\n",
              "      <td>Ambrane Unbreakable 60W / 3A Fast Charging 1.5...</td>\n",
              "      <td>Computers&amp;Accessories|Accessories&amp;Peripherals|...</td>\n",
              "      <td>2.44</td>\n",
              "      <td>4.27</td>\n",
              "      <td>0.43</td>\n",
              "      <td>4.0</td>\n",
              "      <td>43994.0</td>\n",
              "      <td>Compatible with all Type C enabled devices, be...</td>\n",
              "      <td>AECPFYFQVRUWC3KGNLJIOREFP5LQ,AGYYVPDD7YG7FYNBX...</td>\n",
              "      <td>ArdKn,Nirbhay kumar,Sagar Viswanathan,Asp,Plac...</td>\n",
              "      <td>RGIQEG07R9HS2,R1SMWZQ86XIN8U,R2J3Y1WL29GWDE,RY...</td>\n",
              "      <td>A Good Braided Cable for Your Type C Device,Go...</td>\n",
              "      <td>I ordered this cable to connect my phone to An...</td>\n",
              "      <td>https://m.media-amazon.com/images/W/WEBP_40237...</td>\n",
              "      <td>https://www.amazon.in/Ambrane-Unbreakable-Char...</td>\n",
              "    </tr>\n",
              "    <tr>\n",
              "      <th>2</th>\n",
              "      <td>B096MSW6CT</td>\n",
              "      <td>Sounce Fast Phone Charging Cable &amp; Data Sync U...</td>\n",
              "      <td>Computers&amp;Accessories|Accessories&amp;Peripherals|...</td>\n",
              "      <td>2.44</td>\n",
              "      <td>23.24</td>\n",
              "      <td>0.90</td>\n",
              "      <td>3.9</td>\n",
              "      <td>7928.0</td>\n",
              "      <td>【 Fast Charger&amp; Data Sync】-With built-in safet...</td>\n",
              "      <td>AGU3BBQ2V2DDAMOAKGFAWDDQ6QHA,AESFLDV2PT363T2AQ...</td>\n",
              "      <td>Kunal,Himanshu,viswanath,sai niharka,saqib mal...</td>\n",
              "      <td>R3J3EQQ9TZI5ZJ,R3E7WBGK7ID0KV,RWU79XKQ6I1QF,R2...</td>\n",
              "      <td>Good speed for earlier versions,Good Product,W...</td>\n",
              "      <td>Not quite durable and sturdy,https://m.media-a...</td>\n",
              "      <td>https://m.media-amazon.com/images/W/WEBP_40237...</td>\n",
              "      <td>https://www.amazon.in/Sounce-iPhone-Charging-C...</td>\n",
              "    </tr>\n",
              "    <tr>\n",
              "      <th>3</th>\n",
              "      <td>B08HDJ86NZ</td>\n",
              "      <td>boAt Deuce USB 300 2 in 1 Type-C &amp; Micro USB S...</td>\n",
              "      <td>Computers&amp;Accessories|Accessories&amp;Peripherals|...</td>\n",
              "      <td>4.03</td>\n",
              "      <td>8.55</td>\n",
              "      <td>0.53</td>\n",
              "      <td>4.2</td>\n",
              "      <td>94363.0</td>\n",
              "      <td>The boAt Deuce USB 300 2 in 1 cable is compati...</td>\n",
              "      <td>AEWAZDZZJLQUYVOVGBEUKSLXHQ5A,AG5HTSFRRE6NL3M5S...</td>\n",
              "      <td>Omkar dhale,JD,HEMALATHA,Ajwadh a.,amar singh ...</td>\n",
              "      <td>R3EEUZKKK9J36I,R3HJVYCLYOY554,REDECAZ7AMPQC,R1...</td>\n",
              "      <td>Good product,Good one,Nice,Really nice product...</td>\n",
              "      <td>Good product,long wire,Charges good,Nice,I bou...</td>\n",
              "      <td>https://m.media-amazon.com/images/I/41V5FtEWPk...</td>\n",
              "      <td>https://www.amazon.in/Deuce-300-Resistant-Tang...</td>\n",
              "    </tr>\n",
              "    <tr>\n",
              "      <th>4</th>\n",
              "      <td>B08CF3B7N1</td>\n",
              "      <td>Portronics Konnect L 1.2M Fast Charging 3A 8 P...</td>\n",
              "      <td>Computers&amp;Accessories|Accessories&amp;Peripherals|...</td>\n",
              "      <td>1.88</td>\n",
              "      <td>4.88</td>\n",
              "      <td>0.61</td>\n",
              "      <td>4.2</td>\n",
              "      <td>16905.0</td>\n",
              "      <td>[CHARGE &amp; SYNC FUNCTION]- This cable comes wit...</td>\n",
              "      <td>AE3Q6KSUK5P75D5HFYHCRAOLODSA,AFUGIFH5ZAFXRDSZH...</td>\n",
              "      <td>rahuls6099,Swasat Borah,Ajay Wadke,Pranali,RVK...</td>\n",
              "      <td>R1BP4L2HH9TFUP,R16PVJEXKV6QZS,R2UPDB81N66T4P,R...</td>\n",
              "      <td>As good as original,Decent,Good one for second...</td>\n",
              "      <td>Bought this instead of original apple, does th...</td>\n",
              "      <td>https://m.media-amazon.com/images/W/WEBP_40237...</td>\n",
              "      <td>https://www.amazon.in/Portronics-Konnect-POR-1...</td>\n",
              "    </tr>\n",
              "    <tr>\n",
              "      <th>...</th>\n",
              "      <td>...</td>\n",
              "      <td>...</td>\n",
              "      <td>...</td>\n",
              "      <td>...</td>\n",
              "      <td>...</td>\n",
              "      <td>...</td>\n",
              "      <td>...</td>\n",
              "      <td>...</td>\n",
              "      <td>...</td>\n",
              "      <td>...</td>\n",
              "      <td>...</td>\n",
              "      <td>...</td>\n",
              "      <td>...</td>\n",
              "      <td>...</td>\n",
              "      <td>...</td>\n",
              "      <td>...</td>\n",
              "    </tr>\n",
              "    <tr>\n",
              "      <th>1460</th>\n",
              "      <td>B08L7J3T31</td>\n",
              "      <td>Noir Aqua - 5pcs PP Spun Filter + 1 Spanner | ...</td>\n",
              "      <td>Home&amp;Kitchen|Kitchen&amp;HomeAppliances|WaterPurif...</td>\n",
              "      <td>4.64</td>\n",
              "      <td>11.25</td>\n",
              "      <td>0.59</td>\n",
              "      <td>4</td>\n",
              "      <td>1090.0</td>\n",
              "      <td>SUPREME QUALITY 90 GRAM 3 LAYER THIK PP SPUN F...</td>\n",
              "      <td>AHITFY6AHALOFOHOZEOC6XBP4FEA,AFRABBODZJZQB6Z4U...</td>\n",
              "      <td>Prabha ds,Raghuram bk,Real Deal,Amazon Custome...</td>\n",
              "      <td>R3G3XFHPBFF0E8,R3C0BZCD32EIGW,R2EBVBCN9QPD9R,R...</td>\n",
              "      <td>Received the product without spanner,Excellent...</td>\n",
              "      <td>I received product without spanner,Excellent p...</td>\n",
              "      <td>https://m.media-amazon.com/images/I/41fDdRtjfx...</td>\n",
              "      <td>https://www.amazon.in/Noir-Aqua-Spanner-Purifi...</td>\n",
              "    </tr>\n",
              "    <tr>\n",
              "      <th>1461</th>\n",
              "      <td>B01M6453MB</td>\n",
              "      <td>Prestige Delight PRWO Electric Rice Cooker (1 ...</td>\n",
              "      <td>Home&amp;Kitchen|Kitchen&amp;HomeAppliances|SmallKitch...</td>\n",
              "      <td>27.90</td>\n",
              "      <td>37.26</td>\n",
              "      <td>0.25</td>\n",
              "      <td>4.1</td>\n",
              "      <td>4118.0</td>\n",
              "      <td>230 Volts, 400 watts, 1 Year</td>\n",
              "      <td>AFG5FM3NEMOL6BNFRV2NK5FNJCHQ,AGEINTRN6Z563RMLH...</td>\n",
              "      <td>Manu Bhai,Naveenpittu,Evatira Sangma,JAGANNADH...</td>\n",
              "      <td>R3DDL2UPKQ2CK9,R2SYYU1OATVIU5,R1VM993161IYRW,R...</td>\n",
              "      <td>ok,everything was good couldn't return bcoz I ...</td>\n",
              "      <td>ok,got everything as mentioned but the measuri...</td>\n",
              "      <td>https://m.media-amazon.com/images/I/41gzDxk4+k...</td>\n",
              "      <td>https://www.amazon.in/Prestige-Delight-PRWO-1-...</td>\n",
              "    </tr>\n",
              "    <tr>\n",
              "      <th>1462</th>\n",
              "      <td>B009P2LIL4</td>\n",
              "      <td>Bajaj Majesty RX10 2000 Watts Heat Convector R...</td>\n",
              "      <td>Home&amp;Kitchen|Heating,Cooling&amp;AirQuality|RoomHe...</td>\n",
              "      <td>27.15</td>\n",
              "      <td>37.69</td>\n",
              "      <td>0.28</td>\n",
              "      <td>3.6</td>\n",
              "      <td>468.0</td>\n",
              "      <td>International design and styling|Two heat sett...</td>\n",
              "      <td>AGVPWCMAHYQWJOQKMUJN4DW3KM5Q,AF4Q3E66MY4SR7YQZ...</td>\n",
              "      <td>Nehal Desai,Danish Parwez,Amazon Customer,Amaz...</td>\n",
              "      <td>R1TLRJVW4STY5I,R2O455KRN493R1,R3Q5MVGBRIAS2G,R...</td>\n",
              "      <td>very good,Work but front melt after 2 month,Go...</td>\n",
              "      <td>plastic but cool body ,u have to find sturdy s...</td>\n",
              "      <td>https://m.media-amazon.com/images/W/WEBP_40237...</td>\n",
              "      <td>https://www.amazon.in/Bajaj-RX-10-2000-Watt-Co...</td>\n",
              "    </tr>\n",
              "    <tr>\n",
              "      <th>1463</th>\n",
              "      <td>B00J5DYCCA</td>\n",
              "      <td>Havells Ventil Air DSP 230mm Exhaust Fan (Pist...</td>\n",
              "      <td>Home&amp;Kitchen|Heating,Cooling&amp;AirQuality|Fans|E...</td>\n",
              "      <td>17.12</td>\n",
              "      <td>23.13</td>\n",
              "      <td>0.26</td>\n",
              "      <td>4</td>\n",
              "      <td>8031.0</td>\n",
              "      <td>Fan sweep area: 230 MM ; Noise level: (40 - 45...</td>\n",
              "      <td>AF2JQCLSCY3QJATWUNNHUSVUPNQQ,AFDMLUXC5LS5RXDJS...</td>\n",
              "      <td>Shubham Dubey,E.GURUBARAN,Mayank S.,eusuf khan...</td>\n",
              "      <td>R39Q2Y79MM9SWK,R3079BG1NIH6MB,R29A31ZELTZNJM,R...</td>\n",
              "      <td>Fan Speed is slow,Good quality,Good product,go...</td>\n",
              "      <td>I have installed this in my kitchen working fi...</td>\n",
              "      <td>https://m.media-amazon.com/images/W/WEBP_40237...</td>\n",
              "      <td>https://www.amazon.in/Havells-Ventilair-230mm-...</td>\n",
              "    </tr>\n",
              "    <tr>\n",
              "      <th>1464</th>\n",
              "      <td>B01486F4G6</td>\n",
              "      <td>Borosil Jumbo 1000-Watt Grill Sandwich Maker (...</td>\n",
              "      <td>Home&amp;Kitchen|Kitchen&amp;HomeAppliances|SmallKitch...</td>\n",
              "      <td>35.03</td>\n",
              "      <td>45.15</td>\n",
              "      <td>0.22</td>\n",
              "      <td>4.3</td>\n",
              "      <td>6987.0</td>\n",
              "      <td>Brand-Borosil, Specification â€“ 23V ~ 5Hz;1 W...</td>\n",
              "      <td>AFGW5PT3R6ZAVQR4Y5MWVAKBZAYA,AG7QNJ2SCS5VS5VYY...</td>\n",
              "      <td>Rajib,Ajay B,Vikas Kahol,PARDEEP,Anindya Prama...</td>\n",
              "      <td>R20RBRZ0WEUJT9,ROKIFK9R2ISSE,R30EEG2FNJSN5I,R2...</td>\n",
              "      <td>Works perfect,Ok good product,Nice Product. Re...</td>\n",
              "      <td>It does it job perfectly..only issue is temp c...</td>\n",
              "      <td>https://m.media-amazon.com/images/W/WEBP_40237...</td>\n",
              "      <td>https://www.amazon.in/Borosil-Jumbo-1000-Watt-...</td>\n",
              "    </tr>\n",
              "  </tbody>\n",
              "</table>\n",
              "<p>1465 rows × 16 columns</p>\n",
              "</div>"
            ],
            "text/plain": [
              "      product_id                                       product_name  \\\n",
              "0     B07JW9H4J1  Wayona Nylon Braided USB to Lightning Fast Cha...   \n",
              "1     B098NS6PVG  Ambrane Unbreakable 60W / 3A Fast Charging 1.5...   \n",
              "2     B096MSW6CT  Sounce Fast Phone Charging Cable & Data Sync U...   \n",
              "3     B08HDJ86NZ  boAt Deuce USB 300 2 in 1 Type-C & Micro USB S...   \n",
              "4     B08CF3B7N1  Portronics Konnect L 1.2M Fast Charging 3A 8 P...   \n",
              "...          ...                                                ...   \n",
              "1460  B08L7J3T31  Noir Aqua - 5pcs PP Spun Filter + 1 Spanner | ...   \n",
              "1461  B01M6453MB  Prestige Delight PRWO Electric Rice Cooker (1 ...   \n",
              "1462  B009P2LIL4  Bajaj Majesty RX10 2000 Watts Heat Convector R...   \n",
              "1463  B00J5DYCCA  Havells Ventil Air DSP 230mm Exhaust Fan (Pist...   \n",
              "1464  B01486F4G6  Borosil Jumbo 1000-Watt Grill Sandwich Maker (...   \n",
              "\n",
              "                                               category  discounted_price  \\\n",
              "0     Computers&Accessories|Accessories&Peripherals|...              4.88   \n",
              "1     Computers&Accessories|Accessories&Peripherals|...              2.44   \n",
              "2     Computers&Accessories|Accessories&Peripherals|...              2.44   \n",
              "3     Computers&Accessories|Accessories&Peripherals|...              4.03   \n",
              "4     Computers&Accessories|Accessories&Peripherals|...              1.88   \n",
              "...                                                 ...               ...   \n",
              "1460  Home&Kitchen|Kitchen&HomeAppliances|WaterPurif...              4.64   \n",
              "1461  Home&Kitchen|Kitchen&HomeAppliances|SmallKitch...             27.90   \n",
              "1462  Home&Kitchen|Heating,Cooling&AirQuality|RoomHe...             27.15   \n",
              "1463  Home&Kitchen|Heating,Cooling&AirQuality|Fans|E...             17.12   \n",
              "1464  Home&Kitchen|Kitchen&HomeAppliances|SmallKitch...             35.03   \n",
              "\n",
              "      actual_price  discount_percentage rating rating_count  \\\n",
              "0            13.45                 0.64    4.2      24269.0   \n",
              "1             4.27                 0.43    4.0      43994.0   \n",
              "2            23.24                 0.90    3.9       7928.0   \n",
              "3             8.55                 0.53    4.2      94363.0   \n",
              "4             4.88                 0.61    4.2      16905.0   \n",
              "...            ...                  ...    ...          ...   \n",
              "1460         11.25                 0.59      4       1090.0   \n",
              "1461         37.26                 0.25    4.1       4118.0   \n",
              "1462         37.69                 0.28    3.6        468.0   \n",
              "1463         23.13                 0.26      4       8031.0   \n",
              "1464         45.15                 0.22    4.3       6987.0   \n",
              "\n",
              "                                          about_product  \\\n",
              "0     High Compatibility : Compatible With iPhone 12...   \n",
              "1     Compatible with all Type C enabled devices, be...   \n",
              "2     【 Fast Charger& Data Sync】-With built-in safet...   \n",
              "3     The boAt Deuce USB 300 2 in 1 cable is compati...   \n",
              "4     [CHARGE & SYNC FUNCTION]- This cable comes wit...   \n",
              "...                                                 ...   \n",
              "1460  SUPREME QUALITY 90 GRAM 3 LAYER THIK PP SPUN F...   \n",
              "1461                       230 Volts, 400 watts, 1 Year   \n",
              "1462  International design and styling|Two heat sett...   \n",
              "1463  Fan sweep area: 230 MM ; Noise level: (40 - 45...   \n",
              "1464  Brand-Borosil, Specification â€“ 23V ~ 5Hz;1 W...   \n",
              "\n",
              "                                                user_id  \\\n",
              "0     AG3D6O4STAQKAY2UVGEUV46KN35Q,AHMY5CWJMMK5BJRBB...   \n",
              "1     AECPFYFQVRUWC3KGNLJIOREFP5LQ,AGYYVPDD7YG7FYNBX...   \n",
              "2     AGU3BBQ2V2DDAMOAKGFAWDDQ6QHA,AESFLDV2PT363T2AQ...   \n",
              "3     AEWAZDZZJLQUYVOVGBEUKSLXHQ5A,AG5HTSFRRE6NL3M5S...   \n",
              "4     AE3Q6KSUK5P75D5HFYHCRAOLODSA,AFUGIFH5ZAFXRDSZH...   \n",
              "...                                                 ...   \n",
              "1460  AHITFY6AHALOFOHOZEOC6XBP4FEA,AFRABBODZJZQB6Z4U...   \n",
              "1461  AFG5FM3NEMOL6BNFRV2NK5FNJCHQ,AGEINTRN6Z563RMLH...   \n",
              "1462  AGVPWCMAHYQWJOQKMUJN4DW3KM5Q,AF4Q3E66MY4SR7YQZ...   \n",
              "1463  AF2JQCLSCY3QJATWUNNHUSVUPNQQ,AFDMLUXC5LS5RXDJS...   \n",
              "1464  AFGW5PT3R6ZAVQR4Y5MWVAKBZAYA,AG7QNJ2SCS5VS5VYY...   \n",
              "\n",
              "                                              user_name  \\\n",
              "0     Manav,Adarsh gupta,Sundeep,S.Sayeed Ahmed,jasp...   \n",
              "1     ArdKn,Nirbhay kumar,Sagar Viswanathan,Asp,Plac...   \n",
              "2     Kunal,Himanshu,viswanath,sai niharka,saqib mal...   \n",
              "3     Omkar dhale,JD,HEMALATHA,Ajwadh a.,amar singh ...   \n",
              "4     rahuls6099,Swasat Borah,Ajay Wadke,Pranali,RVK...   \n",
              "...                                                 ...   \n",
              "1460  Prabha ds,Raghuram bk,Real Deal,Amazon Custome...   \n",
              "1461  Manu Bhai,Naveenpittu,Evatira Sangma,JAGANNADH...   \n",
              "1462  Nehal Desai,Danish Parwez,Amazon Customer,Amaz...   \n",
              "1463  Shubham Dubey,E.GURUBARAN,Mayank S.,eusuf khan...   \n",
              "1464  Rajib,Ajay B,Vikas Kahol,PARDEEP,Anindya Prama...   \n",
              "\n",
              "                                              review_id  \\\n",
              "0     R3HXWT0LRP0NMF,R2AJM3LFTLZHFO,R6AQJGUP6P86,R1K...   \n",
              "1     RGIQEG07R9HS2,R1SMWZQ86XIN8U,R2J3Y1WL29GWDE,RY...   \n",
              "2     R3J3EQQ9TZI5ZJ,R3E7WBGK7ID0KV,RWU79XKQ6I1QF,R2...   \n",
              "3     R3EEUZKKK9J36I,R3HJVYCLYOY554,REDECAZ7AMPQC,R1...   \n",
              "4     R1BP4L2HH9TFUP,R16PVJEXKV6QZS,R2UPDB81N66T4P,R...   \n",
              "...                                                 ...   \n",
              "1460  R3G3XFHPBFF0E8,R3C0BZCD32EIGW,R2EBVBCN9QPD9R,R...   \n",
              "1461  R3DDL2UPKQ2CK9,R2SYYU1OATVIU5,R1VM993161IYRW,R...   \n",
              "1462  R1TLRJVW4STY5I,R2O455KRN493R1,R3Q5MVGBRIAS2G,R...   \n",
              "1463  R39Q2Y79MM9SWK,R3079BG1NIH6MB,R29A31ZELTZNJM,R...   \n",
              "1464  R20RBRZ0WEUJT9,ROKIFK9R2ISSE,R30EEG2FNJSN5I,R2...   \n",
              "\n",
              "                                           review_title  \\\n",
              "0     Satisfied,Charging is really fast,Value for mo...   \n",
              "1     A Good Braided Cable for Your Type C Device,Go...   \n",
              "2     Good speed for earlier versions,Good Product,W...   \n",
              "3     Good product,Good one,Nice,Really nice product...   \n",
              "4     As good as original,Decent,Good one for second...   \n",
              "...                                                 ...   \n",
              "1460  Received the product without spanner,Excellent...   \n",
              "1461  ok,everything was good couldn't return bcoz I ...   \n",
              "1462  very good,Work but front melt after 2 month,Go...   \n",
              "1463  Fan Speed is slow,Good quality,Good product,go...   \n",
              "1464  Works perfect,Ok good product,Nice Product. Re...   \n",
              "\n",
              "                                         review_content  \\\n",
              "0     Looks durable Charging is fine tooNo complains...   \n",
              "1     I ordered this cable to connect my phone to An...   \n",
              "2     Not quite durable and sturdy,https://m.media-a...   \n",
              "3     Good product,long wire,Charges good,Nice,I bou...   \n",
              "4     Bought this instead of original apple, does th...   \n",
              "...                                                 ...   \n",
              "1460  I received product without spanner,Excellent p...   \n",
              "1461  ok,got everything as mentioned but the measuri...   \n",
              "1462  plastic but cool body ,u have to find sturdy s...   \n",
              "1463  I have installed this in my kitchen working fi...   \n",
              "1464  It does it job perfectly..only issue is temp c...   \n",
              "\n",
              "                                               img_link  \\\n",
              "0     https://m.media-amazon.com/images/W/WEBP_40237...   \n",
              "1     https://m.media-amazon.com/images/W/WEBP_40237...   \n",
              "2     https://m.media-amazon.com/images/W/WEBP_40237...   \n",
              "3     https://m.media-amazon.com/images/I/41V5FtEWPk...   \n",
              "4     https://m.media-amazon.com/images/W/WEBP_40237...   \n",
              "...                                                 ...   \n",
              "1460  https://m.media-amazon.com/images/I/41fDdRtjfx...   \n",
              "1461  https://m.media-amazon.com/images/I/41gzDxk4+k...   \n",
              "1462  https://m.media-amazon.com/images/W/WEBP_40237...   \n",
              "1463  https://m.media-amazon.com/images/W/WEBP_40237...   \n",
              "1464  https://m.media-amazon.com/images/W/WEBP_40237...   \n",
              "\n",
              "                                           product_link  \n",
              "0     https://www.amazon.in/Wayona-Braided-WN3LG1-Sy...  \n",
              "1     https://www.amazon.in/Ambrane-Unbreakable-Char...  \n",
              "2     https://www.amazon.in/Sounce-iPhone-Charging-C...  \n",
              "3     https://www.amazon.in/Deuce-300-Resistant-Tang...  \n",
              "4     https://www.amazon.in/Portronics-Konnect-POR-1...  \n",
              "...                                                 ...  \n",
              "1460  https://www.amazon.in/Noir-Aqua-Spanner-Purifi...  \n",
              "1461  https://www.amazon.in/Prestige-Delight-PRWO-1-...  \n",
              "1462  https://www.amazon.in/Bajaj-RX-10-2000-Watt-Co...  \n",
              "1463  https://www.amazon.in/Havells-Ventilair-230mm-...  \n",
              "1464  https://www.amazon.in/Borosil-Jumbo-1000-Watt-...  \n",
              "\n",
              "[1465 rows x 16 columns]"
            ]
          },
          "execution_count": 90,
          "metadata": {},
          "output_type": "execute_result"
        }
      ],
      "source": [
        "def convert_percentage_to_float(df, column):\n",
        "    remove_symbol(df, column, '%')  # Remove the '%' symbol from the column\n",
        "    df[column] = df[column].astype(float) / 100  # Convert the values to float and divide by 100\n",
        "    return df\n",
        "\n",
        "convert_percentage_to_float(df_amazon, 'discount_percentage')"
      ]
    },
    {
      "cell_type": "code",
      "execution_count": 91,
      "metadata": {
        "colab": {
          "base_uri": "https://localhost:8080/"
        },
        "id": "AamJwtVbSUuP",
        "outputId": "afbd2b77-225e-4b6e-a7e0-399a03ccdcf0"
      },
      "outputs": [
        {
          "name": "stdout",
          "output_type": "stream",
          "text": [
            "['4.2' '4.0' '3.9' '4.1' '4.3' '4.4' '4.5' '3.7' '3.3' '3.6' '3.4' '3.8'\n",
            " '3.5' '4.6' '3.2' '5.0' '4.7' '3.0' '2.8' '4' '3.1' '4.8' '2.3' '|' '2'\n",
            " '3' '2.6' '2.9']\n"
          ]
        }
      ],
      "source": [
        "print(df_amazon['rating'].unique())"
      ]
    },
    {
      "cell_type": "code",
      "execution_count": 92,
      "metadata": {
        "id": "VB4oJrH_Bnaj"
      },
      "outputs": [],
      "source": [
        "df_amazon['rating'] = df_amazon['rating'].replace('|', '0').astype(float)\n",
        "\n",
        "df_amazon['rating_count'] = df_amazon['rating_count'].astype(float)"
      ]
    },
    {
      "attachments": {},
      "cell_type": "markdown",
      "metadata": {},
      "source": [
        "# Separating by category"
      ]
    },
    {
      "cell_type": "code",
      "execution_count": 93,
      "metadata": {
        "colab": {
          "base_uri": "https://localhost:8080/"
        },
        "id": "yE9YZ1Aobqan",
        "outputId": "95c78240-19a9-4746-bf37-aad474bd04bd"
      },
      "outputs": [
        {
          "data": {
            "text/plain": [
              "Computers&Accessories|Accessories&Peripherals|Cables&Accessories|Cables|USBCables                                          233\n",
              "Electronics|WearableTechnology|SmartWatches                                                                                 76\n",
              "Electronics|Mobiles&Accessories|Smartphones&BasicMobiles|Smartphones                                                        68\n",
              "Electronics|HomeTheater,TV&Video|Televisions|SmartTelevisions                                                               63\n",
              "Electronics|Headphones,Earbuds&Accessories|Headphones|In-Ear                                                                52\n",
              "                                                                                                                          ... \n",
              "Electronics|Cameras&Photography|Accessories|Batteries&Chargers|BatteryChargers                                               1\n",
              "Computers&Accessories|NetworkingDevices|DataCards&Dongles                                                                    1\n",
              "Electronics|HomeAudio|Speakers|MultimediaSpeakerSystems                                                                      1\n",
              "OfficeProducts|OfficePaperProducts|Paper|Copy&PrintingPaper|ColouredPaper                                                    1\n",
              "Home&Kitchen|Kitchen&HomeAppliances|Vacuum,Cleaning&Ironing|Vacuums&FloorCare|VacuumAccessories|VacuumBags|HandheldBags      1\n",
              "Name: category, Length: 211, dtype: int64"
            ]
          },
          "execution_count": 93,
          "metadata": {},
          "output_type": "execute_result"
        }
      ],
      "source": [
        "df_amazon['category'].value_counts()"
      ]
    },
    {
      "cell_type": "code",
      "execution_count": 94,
      "metadata": {
        "id": "2mFRDzUIRqlv"
      },
      "outputs": [],
      "source": [
        "df_amazon['category'] = df_amazon['category'].str.split('|').str.get(0) + '|' + df_amazon['category'].str.split('|').str.get(1)"
      ]
    },
    {
      "cell_type": "code",
      "execution_count": 95,
      "metadata": {
        "colab": {
          "base_uri": "https://localhost:8080/"
        },
        "id": "qtuBmRTRR2ei",
        "outputId": "7e07c7e9-599e-4c43-fedd-4ce817950936"
      },
      "outputs": [
        {
          "data": {
            "text/plain": [
              "Computers&Accessories|Accessories&Peripherals          381\n",
              "Home&Kitchen|Kitchen&HomeAppliances                    308\n",
              "Electronics|HomeTheater,TV&Video                       162\n",
              "Electronics|Mobiles&Accessories                        161\n",
              "Home&Kitchen|Heating,Cooling&AirQuality                116\n",
              "Electronics|WearableTechnology                          76\n",
              "Electronics|Headphones,Earbuds&Accessories              66\n",
              "Computers&Accessories|NetworkingDevices                 34\n",
              "OfficeProducts|OfficePaperProducts                      27\n",
              "Computers&Accessories|ExternalDevices&DataStorage       18\n",
              "Electronics|Cameras&Photography                         16\n",
              "Home&Kitchen|HomeStorage&Organization                   16\n",
              "Electronics|HomeAudio                                   16\n",
              "Electronics|GeneralPurposeBatteries&BatteryChargers     14\n",
              "Electronics|Accessories                                 14\n",
              "Computers&Accessories|Printers,Inks&Accessories         11\n",
              "Home&Kitchen|CraftMaterials                              7\n",
              "Computers&Accessories|Components                         5\n",
              "OfficeProducts|OfficeElectronics                         4\n",
              "HomeImprovement|Electrical                               2\n",
              "Computers&Accessories|Monitors                           2\n",
              "MusicalInstruments|Microphones                           2\n",
              "Toys&Games|Arts&Crafts                                   1\n",
              "Electronics|PowerAccessories                             1\n",
              "Computers&Accessories|Tablets                            1\n",
              "Computers&Accessories|Laptops                            1\n",
              "Home&Kitchen|Kitchen&Dining                              1\n",
              "Car&Motorbike|CarAccessories                             1\n",
              "Health&PersonalCare|HomeMedicalSupplies&Equipment        1\n",
              "Name: category, dtype: int64"
            ]
          },
          "execution_count": 95,
          "metadata": {},
          "output_type": "execute_result"
        }
      ],
      "source": [
        "df_amazon['category'].value_counts()"
      ]
    },
    {
      "cell_type": "code",
      "execution_count": 96,
      "metadata": {
        "id": "un8MXTLWStwo"
      },
      "outputs": [],
      "source": [
        "# Indexing the dataframe by the 'category' column\n",
        "\n",
        "category_counts = df_amazon['category'].value_counts()\n",
        "valid_categories = category_counts[category_counts >= 30].index\n",
        "df_amazon = df_amazon[df_amazon['category'].isin(valid_categories)]"
      ]
    },
    {
      "cell_type": "code",
      "execution_count": 97,
      "metadata": {
        "colab": {
          "base_uri": "https://localhost:8080/"
        },
        "id": "YZUan6jSSh-4",
        "outputId": "6fb4d26f-e19d-4f21-e2d8-3a8969b97fc5"
      },
      "outputs": [
        {
          "data": {
            "text/plain": [
              "Computers&Accessories|Accessories&Peripherals    381\n",
              "Home&Kitchen|Kitchen&HomeAppliances              308\n",
              "Electronics|HomeTheater,TV&Video                 162\n",
              "Electronics|Mobiles&Accessories                  161\n",
              "Home&Kitchen|Heating,Cooling&AirQuality          116\n",
              "Electronics|WearableTechnology                    76\n",
              "Electronics|Headphones,Earbuds&Accessories        66\n",
              "Computers&Accessories|NetworkingDevices           34\n",
              "Name: category, dtype: int64"
            ]
          },
          "execution_count": 97,
          "metadata": {},
          "output_type": "execute_result"
        }
      ],
      "source": [
        "df_amazon['category'].value_counts()"
      ]
    },
    {
      "cell_type": "code",
      "execution_count": 98,
      "metadata": {
        "colab": {
          "base_uri": "https://localhost:8080/"
        },
        "id": "nh-Zxx5KDO_r",
        "outputId": "99251f06-dc5a-43ba-9e38-3e64950f00d9"
      },
      "outputs": [
        {
          "name": "stdout",
          "output_type": "stream",
          "text": [
            "<class 'pandas.core.frame.DataFrame'>\n",
            "Int64Index: 1304 entries, 0 to 1464\n",
            "Data columns (total 16 columns):\n",
            " #   Column               Non-Null Count  Dtype  \n",
            "---  ------               --------------  -----  \n",
            " 0   product_id           1304 non-null   object \n",
            " 1   product_name         1304 non-null   object \n",
            " 2   category             1304 non-null   object \n",
            " 3   discounted_price     1304 non-null   float64\n",
            " 4   actual_price         1304 non-null   float64\n",
            " 5   discount_percentage  1304 non-null   float64\n",
            " 6   rating               1304 non-null   float64\n",
            " 7   rating_count         1302 non-null   float64\n",
            " 8   about_product        1304 non-null   object \n",
            " 9   user_id              1304 non-null   object \n",
            " 10  user_name            1304 non-null   object \n",
            " 11  review_id            1304 non-null   object \n",
            " 12  review_title         1304 non-null   object \n",
            " 13  review_content       1304 non-null   object \n",
            " 14  img_link             1304 non-null   object \n",
            " 15  product_link         1304 non-null   object \n",
            "dtypes: float64(5), object(11)\n",
            "memory usage: 173.2+ KB\n"
          ]
        }
      ],
      "source": [
        "df_amazon.info()"
      ]
    },
    {
      "cell_type": "code",
      "execution_count": 99,
      "metadata": {},
      "outputs": [
        {
          "data": {
            "text/html": [
              "<div>\n",
              "<style scoped>\n",
              "    .dataframe tbody tr th:only-of-type {\n",
              "        vertical-align: middle;\n",
              "    }\n",
              "\n",
              "    .dataframe tbody tr th {\n",
              "        vertical-align: top;\n",
              "    }\n",
              "\n",
              "    .dataframe thead th {\n",
              "        text-align: right;\n",
              "    }\n",
              "</style>\n",
              "<table border=\"1\" class=\"dataframe\">\n",
              "  <thead>\n",
              "    <tr style=\"text-align: right;\">\n",
              "      <th></th>\n",
              "      <th>discounted_price</th>\n",
              "      <th>actual_price</th>\n",
              "      <th>discount_percentage</th>\n",
              "      <th>rating</th>\n",
              "      <th>rating_count</th>\n",
              "    </tr>\n",
              "  </thead>\n",
              "  <tbody>\n",
              "    <tr>\n",
              "      <th>count</th>\n",
              "      <td>1304.000000</td>\n",
              "      <td>1304.000000</td>\n",
              "      <td>1304.000000</td>\n",
              "      <td>1304.000000</td>\n",
              "      <td>1302.000000</td>\n",
              "    </tr>\n",
              "    <tr>\n",
              "      <th>mean</th>\n",
              "      <td>40.677224</td>\n",
              "      <td>70.849433</td>\n",
              "      <td>0.492270</td>\n",
              "      <td>4.078988</td>\n",
              "      <td>17552.299539</td>\n",
              "    </tr>\n",
              "    <tr>\n",
              "      <th>std</th>\n",
              "      <td>88.197798</td>\n",
              "      <td>137.760324</td>\n",
              "      <td>0.207501</td>\n",
              "      <td>0.315431</td>\n",
              "      <td>42690.039673</td>\n",
              "    </tr>\n",
              "    <tr>\n",
              "      <th>min</th>\n",
              "      <td>0.480000</td>\n",
              "      <td>0.480000</td>\n",
              "      <td>0.000000</td>\n",
              "      <td>0.000000</td>\n",
              "      <td>2.000000</td>\n",
              "    </tr>\n",
              "    <tr>\n",
              "      <th>25%</th>\n",
              "      <td>4.070000</td>\n",
              "      <td>12.080000</td>\n",
              "      <td>0.350000</td>\n",
              "      <td>3.900000</td>\n",
              "      <td>1066.250000</td>\n",
              "    </tr>\n",
              "    <tr>\n",
              "      <th>50%</th>\n",
              "      <td>11.000000</td>\n",
              "      <td>22.010000</td>\n",
              "      <td>0.500000</td>\n",
              "      <td>4.100000</td>\n",
              "      <td>4863.000000</td>\n",
              "    </tr>\n",
              "    <tr>\n",
              "      <th>75%</th>\n",
              "      <td>26.345000</td>\n",
              "      <td>61.075000</td>\n",
              "      <td>0.640000</td>\n",
              "      <td>4.300000</td>\n",
              "      <td>16557.000000</td>\n",
              "    </tr>\n",
              "    <tr>\n",
              "      <th>max</th>\n",
              "      <td>954.340000</td>\n",
              "      <td>1711.910000</td>\n",
              "      <td>0.940000</td>\n",
              "      <td>5.000000</td>\n",
              "      <td>426973.000000</td>\n",
              "    </tr>\n",
              "  </tbody>\n",
              "</table>\n",
              "</div>"
            ],
            "text/plain": [
              "       discounted_price  actual_price  discount_percentage       rating  \\\n",
              "count       1304.000000   1304.000000          1304.000000  1304.000000   \n",
              "mean          40.677224     70.849433             0.492270     4.078988   \n",
              "std           88.197798    137.760324             0.207501     0.315431   \n",
              "min            0.480000      0.480000             0.000000     0.000000   \n",
              "25%            4.070000     12.080000             0.350000     3.900000   \n",
              "50%           11.000000     22.010000             0.500000     4.100000   \n",
              "75%           26.345000     61.075000             0.640000     4.300000   \n",
              "max          954.340000   1711.910000             0.940000     5.000000   \n",
              "\n",
              "        rating_count  \n",
              "count    1302.000000  \n",
              "mean    17552.299539  \n",
              "std     42690.039673  \n",
              "min         2.000000  \n",
              "25%      1066.250000  \n",
              "50%      4863.000000  \n",
              "75%     16557.000000  \n",
              "max    426973.000000  "
            ]
          },
          "execution_count": 99,
          "metadata": {},
          "output_type": "execute_result"
        }
      ],
      "source": [
        "df_amazon.describe()"
      ]
    },
    {
      "attachments": {},
      "cell_type": "markdown",
      "metadata": {},
      "source": [
        "# Data Visualization"
      ]
    },
    {
      "cell_type": "code",
      "execution_count": 100,
      "metadata": {
        "id": "ySI3ZkAdEV0Z"
      },
      "outputs": [],
      "source": [
        "import matplotlib.pyplot as plt\n",
        "import seaborn as sns"
      ]
    },
    {
      "cell_type": "code",
      "execution_count": 101,
      "metadata": {
        "id": "YqrmhfYxEnvT"
      },
      "outputs": [],
      "source": [
        "df_num = df_amazon[['discounted_price', 'actual_price', 'discount_percentage', 'rating', 'rating_count']]"
      ]
    },
    {
      "cell_type": "code",
      "execution_count": 102,
      "metadata": {
        "colab": {
          "base_uri": "https://localhost:8080/",
          "height": 1000
        },
        "id": "NMh_kfrOEdWh",
        "outputId": "d365eed4-74cf-4531-d4e7-46f7a4b7edd7"
      },
      "outputs": [
        {
          "data": {
            "image/png": "[encoded data removed]",
            "text/plain": [
              "<Figure size 432x288 with 1 Axes>"
            ]
          },
          "metadata": {
            "needs_background": "light"
          },
          "output_type": "display_data"
        },
        {
          "data": {
            "image/png": "[encoded data removed]",
            "text/plain": [
              "<Figure size 432x288 with 1 Axes>"
            ]
          },
          "metadata": {
            "needs_background": "light"
          },
          "output_type": "display_data"
        },
        {
          "data": {
            "image/png": "[encoded data removed]",
            "text/plain": [
              "<Figure size 432x288 with 1 Axes>"
            ]
          },
          "metadata": {
            "needs_background": "light"
          },
          "output_type": "display_data"
        },
        {
          "data": {
            "image/png": "[encoded data removed]",
            "text/plain": [
              "<Figure size 432x288 with 1 Axes>"
            ]
          },
          "metadata": {
            "needs_background": "light"
          },
          "output_type": "display_data"
        },
        {
          "data": {
            "image/png": "[encoded data removed]",
            "text/plain": [
              "<Figure size 432x288 with 1 Axes>"
            ]
          },
          "metadata": {
            "needs_background": "light"
          },
          "output_type": "display_data"
        }
      ],
      "source": [
        "for i in df_num.columns:\n",
        "    plt.hist(df_num[i])\n",
        "    plt.title(i)\n",
        "    plt.show()"
      ]
    },
    {
      "cell_type": "code",
      "execution_count": 103,
      "metadata": {
        "colab": {
          "base_uri": "https://localhost:8080/",
          "height": 1000
        },
        "id": "LFaAly-zHLpW",
        "outputId": "3a5a50aa-7038-45aa-9633-1ad819129bfd"
      },
      "outputs": [
        {
          "data": {
            "image/png": "[encoded data removed]",
            "text/plain": [
              "<Figure size 432x288 with 1 Axes>"
            ]
          },
          "metadata": {
            "needs_background": "light"
          },
          "output_type": "display_data"
        },
        {
          "data": {
            "image/png": "[encoded data removed]",
            "text/plain": [
              "<Figure size 432x288 with 1 Axes>"
            ]
          },
          "metadata": {
            "needs_background": "light"
          },
          "output_type": "display_data"
        },
        {
          "data": {
            "image/png": "[encoded data removed]",
            "text/plain": [
              "<Figure size 432x288 with 1 Axes>"
            ]
          },
          "metadata": {
            "needs_background": "light"
          },
          "output_type": "display_data"
        },
        {
          "data": {
            "image/png": "[encoded data removed]",
            "text/plain": [
              "<Figure size 432x288 with 1 Axes>"
            ]
          },
          "metadata": {
            "needs_background": "light"
          },
          "output_type": "display_data"
        },
        {
          "data": {
            "image/png": "[encoded data removed]",
            "text/plain": [
              "<Figure size 432x288 with 1 Axes>"
            ]
          },
          "metadata": {
            "needs_background": "light"
          },
          "output_type": "display_data"
        }
      ],
      "source": [
        "for column in df_num.columns:\n",
        "    plt.scatter(df_num[column], df_num.index)\n",
        "    plt.xlabel(column)\n",
        "    plt.ylabel('count')\n",
        "    plt.show()"
      ]
    },
    {
      "cell_type": "code",
      "execution_count": 104,
      "metadata": {
        "colab": {
          "base_uri": "https://localhost:8080/"
        },
        "id": "gWH_ELCLEtH4",
        "outputId": "180e4012-6f43-4dc7-c50b-28ab02ddf858"
      },
      "outputs": [
        {
          "data": {
            "text/plain": [
              "product_id             0\n",
              "product_name           0\n",
              "category               0\n",
              "discounted_price       0\n",
              "actual_price           0\n",
              "discount_percentage    0\n",
              "rating                 0\n",
              "rating_count           2\n",
              "about_product          0\n",
              "user_id                0\n",
              "user_name              0\n",
              "review_id              0\n",
              "review_title           0\n",
              "review_content         0\n",
              "img_link               0\n",
              "product_link           0\n",
              "dtype: int64"
            ]
          },
          "execution_count": 104,
          "metadata": {},
          "output_type": "execute_result"
        }
      ],
      "source": [
        "missing_values_count = df_amazon.isnull().sum()\n",
        "missing_values_count"
      ]
    },
    {
      "cell_type": "code",
      "execution_count": 105,
      "metadata": {
        "colab": {
          "base_uri": "https://localhost:8080/",
          "height": 810
        },
        "id": "jGvHhar5FJaD",
        "outputId": "5325c50e-abf7-4b20-f5cb-f1e80a90edf4"
      },
      "outputs": [
        {
          "name": "stdout",
          "output_type": "stream",
          "text": [
            "                     discounted_price  actual_price  discount_percentage  \\\n",
            "discounted_price             1.000000      0.961483            -0.293433   \n",
            "actual_price                 0.961483      1.000000            -0.165067   \n",
            "discount_percentage         -0.293433     -0.165067             1.000000   \n",
            "rating                       0.134640      0.138352            -0.098527   \n",
            "rating_count                -0.022313     -0.033089            -0.015819   \n",
            "\n",
            "                       rating  rating_count  \n",
            "discounted_price     0.134640     -0.022313  \n",
            "actual_price         0.138352     -0.033089  \n",
            "discount_percentage -0.098527     -0.015819  \n",
            "rating               1.000000      0.089196  \n",
            "rating_count         0.089196      1.000000  \n"
          ]
        },
        {
          "data": {
            "text/plain": [
              "<AxesSubplot:>"
            ]
          },
          "execution_count": 105,
          "metadata": {},
          "output_type": "execute_result"
        },
        {
          "data": {
            "image/png": "[encoded data removed]",
            "text/plain": [
              "<Figure size 432x288 with 2 Axes>"
            ]
          },
          "metadata": {
            "needs_background": "light"
          },
          "output_type": "display_data"
        }
      ],
      "source": [
        "print(df_num.corr(method='pearson'))\n",
        "sns.heatmap(df_num.corr())"
      ]
    },
    {
      "cell_type": "code",
      "execution_count": 106,
      "metadata": {
        "colab": {
          "base_uri": "https://localhost:8080/",
          "height": 810
        },
        "id": "PEzidsS3GLhb",
        "outputId": "c62f3dbe-e571-4b51-dffa-7e314189c22a"
      },
      "outputs": [
        {
          "name": "stdout",
          "output_type": "stream",
          "text": [
            "                     discounted_price  actual_price  discount_percentage  \\\n",
            "discounted_price             1.000000      0.933924            -0.476438   \n",
            "actual_price                 0.933924      1.000000            -0.178224   \n",
            "discount_percentage         -0.476438     -0.178224             1.000000   \n",
            "rating                       0.124569      0.090009            -0.107096   \n",
            "rating_count                 0.130134      0.100439            -0.111184   \n",
            "\n",
            "                       rating  rating_count  \n",
            "discounted_price     0.124569      0.130134  \n",
            "actual_price         0.090009      0.100439  \n",
            "discount_percentage -0.107096     -0.111184  \n",
            "rating               1.000000      0.167707  \n",
            "rating_count         0.167707      1.000000  \n"
          ]
        },
        {
          "data": {
            "text/plain": [
              "<AxesSubplot:>"
            ]
          },
          "execution_count": 106,
          "metadata": {},
          "output_type": "execute_result"
        },
        {
          "data": {
            "image/png": "[encoded data removed]",
            "text/plain": [
              "<Figure size 432x288 with 2 Axes>"
            ]
          },
          "metadata": {
            "needs_background": "light"
          },
          "output_type": "display_data"
        }
      ],
      "source": [
        "print(df_num.corr(method='spearman'))\n",
        "sns.heatmap(df_num.corr())"
      ]
    },
    {
      "attachments": {},
      "cell_type": "markdown",
      "metadata": {},
      "source": [
        "* Data leakage can be found in discounted_price and actual_price columns."
      ]
    },
    {
      "attachments": {},
      "cell_type": "markdown",
      "metadata": {
        "id": "kuVd8io5Nyp9"
      },
      "source": [
        "# Data processing and modeling"
      ]
    },
    {
      "cell_type": "code",
      "execution_count": 107,
      "metadata": {
        "id": "bmfPPWtJN-St"
      },
      "outputs": [],
      "source": [
        "from sklearn.model_selection import train_test_split\n",
        "from sklearn.ensemble import RandomForestRegressor\n",
        "from sklearn.linear_model import LinearRegression\n",
        "from sklearn.metrics import mean_squared_error\n",
        "from sklearn.metrics import r2_score"
      ]
    },
    {
      "cell_type": "code",
      "execution_count": 108,
      "metadata": {
        "id": "kTeIh8nlNZpM"
      },
      "outputs": [],
      "source": [
        "variables = ['rating', 'rating_count']"
      ]
    },
    {
      "cell_type": "code",
      "execution_count": 109,
      "metadata": {
        "id": "_gc6VCfVfmIb"
      },
      "outputs": [],
      "source": [
        "X = df_amazon[variables]\n",
        "y = df_amazon['discount_percentage']\n",
        "\n",
        "X = X.fillna(-1)\n",
        "\n",
        "X_train, X_test, y_train, y_test = train_test_split(X, y, test_size=0.3)"
      ]
    },
    {
      "cell_type": "code",
      "execution_count": 110,
      "metadata": {
        "colab": {
          "base_uri": "https://localhost:8080/",
          "height": 1000
        },
        "id": "g98-ptvbYpTZ",
        "outputId": "5032fde5-b1f9-4967-ba09-b88679a48f8a"
      },
      "outputs": [
        {
          "name": "stdout",
          "output_type": "stream",
          "text": [
            "Category: Computers&Accessories|Accessories&Peripherals\n"
          ]
        },
        {
          "data": {
            "image/png": "[encoded data removed]",
            "text/plain": [
              "<Figure size 432x288 with 1 Axes>"
            ]
          },
          "metadata": {
            "needs_background": "light"
          },
          "output_type": "display_data"
        },
        {
          "name": "stdout",
          "output_type": "stream",
          "text": [
            "Mean Squared Error: 0.029611584570895137\n",
            "R-squared: -0.001523377900227496\n",
            "Mean Discount Percentage (Predicted): 0.5490704270615218\n",
            "\n",
            "Category: Computers&Accessories|NetworkingDevices\n"
          ]
        },
        {
          "data": {
            "image/png": "[encoded data removed]",
            "text/plain": [
              "<Figure size 432x288 with 1 Axes>"
            ]
          },
          "metadata": {
            "needs_background": "light"
          },
          "output_type": "display_data"
        },
        {
          "name": "stdout",
          "output_type": "stream",
          "text": [
            "Mean Squared Error: 0.021460357069716385\n",
            "R-squared: -0.4802777365384121\n",
            "Mean Discount Percentage (Predicted): 0.474129653336268\n",
            "\n",
            "Category: Electronics|Headphones,Earbuds&Accessories\n"
          ]
        },
        {
          "data": {
            "image/png": "[encoded data removed]",
            "text/plain": [
              "<Figure size 432x288 with 1 Axes>"
            ]
          },
          "metadata": {
            "needs_background": "light"
          },
          "output_type": "display_data"
        },
        {
          "name": "stdout",
          "output_type": "stream",
          "text": [
            "Mean Squared Error: 0.04631594471892942\n",
            "R-squared: -0.08354697872673089\n",
            "Mean Discount Percentage (Predicted): 0.6378350225592089\n",
            "\n",
            "Category: Electronics|HomeTheater,TV&Video\n"
          ]
        },
        {
          "data": {
            "image/png": "[encoded data removed]",
            "text/plain": [
              "<Figure size 432x288 with 1 Axes>"
            ]
          },
          "metadata": {
            "needs_background": "light"
          },
          "output_type": "display_data"
        },
        {
          "name": "stdout",
          "output_type": "stream",
          "text": [
            "Mean Squared Error: 0.02074435821405136\n",
            "R-squared: -0.08133136649089923\n",
            "Mean Discount Percentage (Predicted): 0.4951494254924909\n",
            "\n",
            "Category: Electronics|Mobiles&Accessories\n"
          ]
        },
        {
          "data": {
            "image/png": "[encoded data removed]",
            "text/plain": [
              "<Figure size 432x288 with 1 Axes>"
            ]
          },
          "metadata": {
            "needs_background": "light"
          },
          "output_type": "display_data"
        },
        {
          "name": "stdout",
          "output_type": "stream",
          "text": [
            "Mean Squared Error: 0.056138459644326726\n",
            "R-squared: 0.036747919282641095\n",
            "Mean Discount Percentage (Predicted): 0.42658172190024074\n",
            "\n",
            "Category: Electronics|WearableTechnology\n"
          ]
        },
        {
          "data": {
            "image/png": "[encoded data removed]",
            "text/plain": [
              "<Figure size 432x288 with 1 Axes>"
            ]
          },
          "metadata": {
            "needs_background": "light"
          },
          "output_type": "display_data"
        },
        {
          "name": "stdout",
          "output_type": "stream",
          "text": [
            "Mean Squared Error: 0.01609402930051787\n",
            "R-squared: -0.019805172245454417\n",
            "Mean Discount Percentage (Predicted): 0.7033113211586285\n",
            "\n",
            "Category: Home&Kitchen|Heating,Cooling&AirQuality\n"
          ]
        },
        {
          "data": {
            "image/png": "[encoded data removed]",
            "text/plain": [
              "<Figure size 432x288 with 1 Axes>"
            ]
          },
          "metadata": {
            "needs_background": "light"
          },
          "output_type": "display_data"
        },
        {
          "name": "stdout",
          "output_type": "stream",
          "text": [
            "Mean Squared Error: 0.017256784861563734\n",
            "R-squared: 0.0594858005474328\n",
            "Mean Discount Percentage (Predicted): 0.39544904376447715\n",
            "\n",
            "Category: Home&Kitchen|Kitchen&HomeAppliances\n"
          ]
        },
        {
          "data": {
            "image/png": "[encoded data removed]",
            "text/plain": [
              "<Figure size 432x288 with 1 Axes>"
            ]
          },
          "metadata": {
            "needs_background": "light"
          },
          "output_type": "display_data"
        },
        {
          "name": "stdout",
          "output_type": "stream",
          "text": [
            "Mean Squared Error: 0.03902282919908387\n",
            "R-squared: 0.04982173766818754\n",
            "Mean Discount Percentage (Predicted): 0.39055588586892787\n",
            "\n"
          ]
        }
      ],
      "source": [
        "# Group the dataframe by 'category'\n",
        "grouped_df = df_amazon.groupby('category')\n",
        "\n",
        "# Iterate over each category\n",
        "for category, group in grouped_df:\n",
        "    group.dropna(subset=['discount_percentage', 'rating', 'rating_count'], inplace=True)\n",
        "    X = group[['rating', 'rating_count']]\n",
        "    y = group['discount_percentage']\n",
        "\n",
        "    # Split the data into train and test sets\n",
        "    X_train, X_test, y_train, y_test = train_test_split(X, y, test_size=0.3)\n",
        "\n",
        "    # Create an instance of Linear Regression\n",
        "    model = LinearRegression()\n",
        "\n",
        "    # Fit the model\n",
        "    model.fit(X_train, y_train)\n",
        "\n",
        "    # Predict on the test set\n",
        "    y_pred = model.predict(X_test)\n",
        "\n",
        "    # Print the category\n",
        "    print(\"Category:\", category)\n",
        "\n",
        "    # Plot the histogram of predicted discount percentages\n",
        "    plt.hist(y_pred)\n",
        "    plt.title(f\"{category} - Predicted Discount Percentage\")\n",
        "    plt.xlabel(\"Discount Percentage\")\n",
        "    plt.ylabel(\"Frequency\")\n",
        "    plt.show()\n",
        "\n",
        "    mse = mean_squared_error(y_test, y_pred)\n",
        "    r2 = r2_score(y_test, y_pred)\n",
        "    print(\"Mean Squared Error:\", mse)\n",
        "    print(\"R-squared:\", r2)\n",
        "\n",
        "    # Calculate the mean of discount_percentage\n",
        "    mean_discount_percentage = y_pred.mean()\n",
        "    print(\"Mean Discount Percentage (Predicted):\", mean_discount_percentage)\n",
        "    print()"
      ]
    },
    {
      "cell_type": "code",
      "execution_count": 111,
      "metadata": {
        "colab": {
          "base_uri": "https://localhost:8080/",
          "height": 1000
        },
        "id": "VCGSCuwCnC37",
        "outputId": "c66caf04-0240-43d4-9141-90b2ce15ba27"
      },
      "outputs": [
        {
          "name": "stdout",
          "output_type": "stream",
          "text": [
            "Category: Computers&Accessories|Accessories&Peripherals\n"
          ]
        },
        {
          "data": {
            "image/png": "[encoded data removed]",
            "text/plain": [
              "<Figure size 432x288 with 1 Axes>"
            ]
          },
          "metadata": {
            "needs_background": "light"
          },
          "output_type": "display_data"
        },
        {
          "name": "stdout",
          "output_type": "stream",
          "text": [
            "Mean Discount Percentage (Predicted): 0.5720290477456268\n",
            "\n",
            "Category: Computers&Accessories|NetworkingDevices\n"
          ]
        },
        {
          "data": {
            "image/png": "[encoded data removed]",
            "text/plain": [
              "<Figure size 432x288 with 1 Axes>"
            ]
          },
          "metadata": {
            "needs_background": "light"
          },
          "output_type": "display_data"
        },
        {
          "name": "stdout",
          "output_type": "stream",
          "text": [
            "Mean Discount Percentage (Predicted): 0.4675838961038961\n",
            "\n",
            "Category: Electronics|Headphones,Earbuds&Accessories\n"
          ]
        },
        {
          "data": {
            "image/png": "[encoded data removed]",
            "text/plain": [
              "<Figure size 432x288 with 1 Axes>"
            ]
          },
          "metadata": {
            "needs_background": "light"
          },
          "output_type": "display_data"
        },
        {
          "name": "stdout",
          "output_type": "stream",
          "text": [
            "Mean Discount Percentage (Predicted): 0.5880712499999999\n",
            "\n",
            "Category: Electronics|HomeTheater,TV&Video\n"
          ]
        },
        {
          "data": {
            "image/png": "[encoded data removed]",
            "text/plain": [
              "<Figure size 432x288 with 1 Axes>"
            ]
          },
          "metadata": {
            "needs_background": "light"
          },
          "output_type": "display_data"
        },
        {
          "name": "stdout",
          "output_type": "stream",
          "text": [
            "Mean Discount Percentage (Predicted): 0.4863303190800129\n",
            "\n",
            "Category: Electronics|Mobiles&Accessories\n"
          ]
        },
        {
          "data": {
            "image/png": "[encoded data removed]",
            "text/plain": [
              "<Figure size 432x288 with 1 Axes>"
            ]
          },
          "metadata": {
            "needs_background": "light"
          },
          "output_type": "display_data"
        },
        {
          "name": "stdout",
          "output_type": "stream",
          "text": [
            "Mean Discount Percentage (Predicted): 0.4760016974975138\n",
            "\n",
            "Category: Electronics|WearableTechnology\n"
          ]
        },
        {
          "data": {
            "image/png": "[encoded data removed]",
            "text/plain": [
              "<Figure size 432x288 with 1 Axes>"
            ]
          },
          "metadata": {
            "needs_background": "light"
          },
          "output_type": "display_data"
        },
        {
          "name": "stdout",
          "output_type": "stream",
          "text": [
            "Mean Discount Percentage (Predicted): 0.6566174637681158\n",
            "\n",
            "Category: Home&Kitchen|Heating,Cooling&AirQuality\n"
          ]
        },
        {
          "data": {
            "image/png": "[encoded data removed]",
            "text/plain": [
              "<Figure size 432x288 with 1 Axes>"
            ]
          },
          "metadata": {
            "needs_background": "light"
          },
          "output_type": "display_data"
        },
        {
          "name": "stdout",
          "output_type": "stream",
          "text": [
            "Mean Discount Percentage (Predicted): 0.4207171428571428\n",
            "\n",
            "Category: Home&Kitchen|Kitchen&HomeAppliances\n"
          ]
        },
        {
          "data": {
            "image/png": "[encoded data removed]",
            "text/plain": [
              "<Figure size 432x288 with 1 Axes>"
            ]
          },
          "metadata": {
            "needs_background": "light"
          },
          "output_type": "display_data"
        },
        {
          "name": "stdout",
          "output_type": "stream",
          "text": [
            "Mean Discount Percentage (Predicted): 0.4394636815156171\n",
            "\n"
          ]
        }
      ],
      "source": [
        "# Group the dataframe by 'category'\n",
        "grouped_df = df_amazon.groupby('category')\n",
        "\n",
        "# Iterate over each category\n",
        "for category, group in grouped_df:\n",
        "    group.dropna(subset=['discount_percentage', 'rating', 'rating_count'], inplace=True)\n",
        "    X = group[['rating', 'rating_count']]\n",
        "    y = group['discount_percentage']\n",
        "\n",
        "    # Split the data into train and test sets\n",
        "    X_train, X_test, y_train, y_test = train_test_split(X, y, test_size=0.3)\n",
        "\n",
        "    # Create an instance of Random Forest Regressor\n",
        "    model = RandomForestRegressor()\n",
        "\n",
        "    # Fit the model\n",
        "    model.fit(X_train, y_train)\n",
        "\n",
        "    # Predict on the test set\n",
        "    y_pred = model.predict(X_test)\n",
        "\n",
        "    # Print the category\n",
        "    print(\"Category:\", category)\n",
        "\n",
        "    # Plot the histogram of predicted discount percentages\n",
        "    plt.hist(y_pred)\n",
        "    plt.title(f\"{category} - Predicted Discount Percentage\")\n",
        "    plt.xlabel(\"Discount Percentage\")\n",
        "    plt.ylabel(\"Frequency\")\n",
        "    plt.show()\n",
        "\n",
        "    # Calculate the mean of discount_percentage\n",
        "    mean_discount_percentage = y_pred.mean()\n",
        "    print(\"Mean Discount Percentage (Predicted):\", mean_discount_percentage)\n",
        "    print()\n"
      ]
    }
  ],
  "metadata": {
    "colab": {
      "provenance": []
    },
    "kernelspec": {
      "display_name": "Python 3",
      "name": "python3"
    },
    "language_info": {
      "codemirror_mode": {
        "name": "ipython",
        "version": 3
      },
      "file_extension": ".py",
      "mimetype": "text/x-python",
      "name": "python",
      "nbconvert_exporter": "python",
      "pygments_lexer": "ipython3",
      "version": "3.9.12"
    }
  },
  "nbformat": 4,
  "nbformat_minor": 0
}
